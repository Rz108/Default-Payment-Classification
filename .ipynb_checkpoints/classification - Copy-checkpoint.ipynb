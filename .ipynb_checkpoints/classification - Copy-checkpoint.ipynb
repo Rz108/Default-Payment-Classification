{
 "cells": [
  {
   "cell_type": "markdown",
   "metadata": {
    "id": "vrC4DesigFkQ"
   },
   "source": [
    "| Name | Admin No | Class |\n",
    "| --- | --- | --- |\n",
    "| Goh Rui Zhuo | 2222329 | DAAA/2A/05 |"
   ]
  },
  {
   "cell_type": "markdown",
   "metadata": {
    "id": "MrqAWawfgFkU"
   },
   "source": [
    "# __Default Payment Classfication model__"
   ]
  },
  {
   "cell_type": "markdown",
   "metadata": {},
   "source": [
    "## <font color='#63B2CB'> __Table of Contents__</font>\n",
    "1. [Problem Statement](#1)     \n",
    "1. [Background Research](#2) \n",
    "1. [Import the data](#3) \n",
    "1. [Import the library](#4) \n",
    "1. [Exploratory Data Analysis](#5) \n",
    "1. [Feature Engineering](#6) \n",
    "1. [Data Preprocessing](#7) \n",
    "1. [Model (Baseline)](#8) \n",
    "1. [Analysis of the model](#9) \n",
    "1. [Advanced Model](#10) \n",
    "1. [Hyperparameter Tune](#11) \n",
    "1. [Stacking Classifier](#15) \n",
    "1. [Final Model](#12) \n",
    "1. [Feature Importance](#13) \n",
    "1. [Summary](#14) "
   ]
  },
  {
   "cell_type": "markdown",
   "metadata": {
    "id": "TUYCo5zJgFkW"
   },
   "source": [
    "<a class=\"anchor\" id=\"1\"></a>\n",
    "## <font color='#63B2CB'> __Problem Statement / Objective__</font>\n",
    "\n"
   ]
  },
  {
   "cell_type": "markdown",
   "metadata": {
    "id": "lBmffU80gFkW"
   },
   "source": [
    ">To predict which customer will have default payment in the next month.\n",
    "\n",
    "> Output variable: Default payment next month , 0 means paid while 1 means not paid\n",
    "\n",
    "\n",
    "![Bank2](bank.jpg)"
   ]
  },
  {
   "cell_type": "markdown",
   "metadata": {
    "id": "1BLa4tm9gFkX"
   },
   "source": [
    "<a class=\"anchor\" id=\"2\"></a>\n",
    "## <font color='#63B2CB'>__Background research__</font>"
   ]
  },
  {
   "cell_type": "markdown",
   "metadata": {
    "id": "ZdGT7tiKgFkX"
   },
   "source": [
    "- In default payment, the word  default is failure to meet the legal obligations (or conditions) of a loan,  for example when a home buyer fails to make a mortgage payment, or when a corporation or government fails to pay a bond which has reached maturity. A national or sovereign default is the failure or refusal of a government to repay its national debt\n",
    "\n",
    "- In addition, there will be a credit limit which determines how much one can spend on the creidt card. This can be based on annual income, credit report and other factors\n",
    "\n",
    "- Overall, the main aim of this is to predict whether a customer with different infos that they are able to repay it properly"
   ]
  },
  {
   "cell_type": "markdown",
   "metadata": {
    "id": "PmT334bKgFkY"
   },
   "source": [
    "<a class=\"anchor\" id=\"3\"></a>\n",
    "## <font color='#63B2CB'>__Import Libraries__</font>"
   ]
  },
  {
   "cell_type": "code",
   "execution_count": null,
   "metadata": {},
   "outputs": [],
   "source": [
    "!pip install pandas-profiling\n",
    "!pip install imblearn"
   ]
  },
  {
   "cell_type": "markdown",
   "metadata": {
    "id": "VK57iTERgFkZ"
   },
   "source": [
    "Importing all the required libraries"
   ]
  },
  {
   "cell_type": "code",
   "execution_count": null,
   "metadata": {
    "id": "3yeWfjzDgFkZ"
   },
   "outputs": [],
   "source": [
    "import pandas as pd\n",
    "import numpy as np\n",
    "import matplotlib.pyplot as plt\n",
    "import seaborn as sns\n",
    "from pandas_profiling import ProfileReport\n",
    "from termcolor import colored"
   ]
  },
  {
   "cell_type": "code",
   "execution_count": null,
   "metadata": {
    "id": "h4-_4l_CgFkc"
   },
   "outputs": [],
   "source": [
    "from sklearn.base import BaseEstimator, TransformerMixin\n",
    "from sklearn.model_selection import train_test_split, cross_validate, StratifiedKFold, learning_curve ,RepeatedStratifiedKFold\n",
    "from sklearn.feature_selection import SelectFromModel, RFE, SelectKBest, chi2, mutual_info_classif,f_classif\n",
    "from sklearn.metrics import  roc_curve, make_scorer, fbeta_score, confusion_matrix, classification_report,RocCurveDisplay,ConfusionMatrixDisplay\n",
    "from sklearn.tree import plot_tree\n",
    "from sklearn.pipeline import Pipeline\n",
    "from sklearn.compose import ColumnTransformer\n",
    "from sklearn.preprocessing import StandardScaler, RobustScaler, OneHotEncoder, LabelEncoder, OrdinalEncoder, KBinsDiscretizer,MinMaxScaler,Normalizer\n",
    "from sklearn.impute import SimpleImputer \n",
    "from imblearn.over_sampling import ADASYN\n",
    "from sklearn.decomposition import PCA\n",
    "from sklearn.dummy import DummyClassifier\n",
    "from sklearn.preprocessing import FunctionTransformer\n",
    "from sklearn.tree import DecisionTreeClassifier\n",
    "from sklearn.neighbors import KNeighborsClassifier\n",
    "from sklearn.ensemble import GradientBoostingClassifier , ExtraTreesClassifier,RandomForestClassifier ,AdaBoostClassifier,HistGradientBoostingClassifier\n",
    "from sklearn.naive_bayes import GaussianNB,CategoricalNB\n",
    "from sklearn.linear_model import RidgeClassifierCV,RidgeClassifier,SGDClassifier,LogisticRegression\n",
    "from sklearn.svm import SVC\n",
    "from sklearn.model_selection import RandomizedSearchCV, GridSearchCV, validation_curve\n",
    "from imblearn.over_sampling import SMOTE,KMeansSMOTE,SMOTEN\n",
    "from sklearn.neural_network import MLPClassifier\n",
    "from sklearn.ensemble import StackingClassifier\n",
    "from imblearn.over_sampling import SMOTEN,ADASYN, RandomOverSampler\n",
    "from imblearn.combine import SMOTEENN\n",
    "from sklearn.inspection import permutation_importance\n",
    "sns.set_style('darkgrid')\n",
    "import warnings\n",
    "warnings.filterwarnings('ignore')"
   ]
  },
  {
   "cell_type": "markdown",
   "metadata": {
    "id": "kjsaZKeZgFkd"
   },
   "source": [
    "<a class=\"anchor\" id=\"4\"></a>\n",
    "## <font color='#63B2CB'>__Import dataset__</font>"
   ]
  },
  {
   "cell_type": "code",
   "execution_count": null,
   "metadata": {
    "colab": {
     "base_uri": "https://localhost:8080/",
     "height": 591
    },
    "id": "AiCt1NkogFkd",
    "outputId": "d32399dc-e9f7-462e-9f3f-239a5a6d5528"
   },
   "outputs": [],
   "source": [
    "df = pd.read_csv('credit_dataset.csv')\n",
    "df = df.drop('Customer ID',axis=1)\n",
    "df"
   ]
  },
  {
   "cell_type": "markdown",
   "metadata": {
    "id": "ycvpjTghgFke"
   },
   "source": [
    "Dataset contains:\n",
    "\n",
    "- `Customer ID`: Unique customer identifier ranging from 1 to 1600\n",
    "- `Credit Limit`: The  credit limit for the customer\n",
    "- `Gender`: Customer gender\n",
    "- `Education`: Customer education level\n",
    "- `Marriage Status`: Customer marital status\n",
    "- `Age`: Rotational Customer age\n",
    "- `Bill_Amount1`: Customer credit card bill amount 1 month ago\n",
    "- `Bill_Amount2`: Customer credit card bill amount 2 month ago\n",
    "- `Bill_Amount3`: Customer credit card bill amount 3 month ago\n",
    "- `Pay_Amount1`: The amount customer paid 1 month ago\n",
    "- `Pay_Amount2`: The amount customer paid 2 month ago\n",
    "- `Pay_Amount3`: The amount customer paid 3 month ago\n",
    "- `Default payment next month`: Whether customer will default next month, 1 means default (customer will not pay the bill), 0 means non default (customer will pay the bill)"
   ]
  },
  {
   "cell_type": "markdown",
   "metadata": {
    "id": "gfrnKHwCgFke"
   },
   "source": [
    "<a class=\"anchor\" id=\"5\"></a>\n",
    "## <font color='#63B2CB'>__Exploratory Data Analysis__</font>\n"
   ]
  },
  {
   "cell_type": "markdown",
   "metadata": {
    "id": "Z9e3t-kvRuVs"
   },
   "source": [
    "- Dataset are imported with pandas to make sure that columns are features or target variables\n",
    "- Data that are of categorical features are put sorted out including those that are of numerical features \n",
    "( Answering to `How do you represent your data as features?\n",
    "`)"
   ]
  },
  {
   "cell_type": "markdown",
   "metadata": {
    "id": "RyaOray1gFkf"
   },
   "source": [
    "#### General info"
   ]
  },
  {
   "cell_type": "code",
   "execution_count": null,
   "metadata": {
    "colab": {
     "base_uri": "https://localhost:8080/"
    },
    "id": "vrnYye-UgFkn",
    "outputId": "bb486255-2a55-4e12-e910-68bd37367379"
   },
   "outputs": [],
   "source": [
    "df.info()"
   ]
  },
  {
   "cell_type": "markdown",
   "metadata": {
    "id": "Qn_Da-__gFkx"
   },
   "source": [
    "<u><b>Things Observed</b></u>\n",
    "- From the above dataset, we can conclude that there is `anomaly dtype`  in the dataset"
   ]
  },
  {
   "cell_type": "code",
   "execution_count": null,
   "metadata": {
    "colab": {
     "base_uri": "https://localhost:8080/",
     "height": 398
    },
    "id": "ooc2GXGbgFky",
    "outputId": "7f43594c-acf3-44e1-9706-ccdffa1802da"
   },
   "outputs": [],
   "source": [
    "df.describe()"
   ]
  },
  {
   "cell_type": "markdown",
   "metadata": {
    "id": "po-A3WougFky"
   },
   "source": [
    "<u><b>Things Observed</b></u>\n",
    "- While all the columns for credit limit, age, paymount amount 1 to 3 months ago are pretty reasonable, we note that there is `negative values in bill amount` in terms of the minimum values"
   ]
  },
  {
   "cell_type": "markdown",
   "metadata": {
    "id": "nIlrKGt6gFkz"
   },
   "source": [
    "#### Check for null values in the dataset"
   ]
  },
  {
   "cell_type": "code",
   "execution_count": null,
   "metadata": {
    "colab": {
     "base_uri": "https://localhost:8080/"
    },
    "id": "e-XYz87UgFkz",
    "outputId": "fd0aab6b-16b7-41f4-d0ac-17cbd2b561d6"
   },
   "outputs": [],
   "source": [
    "df.isnull().sum()"
   ]
  },
  {
   "cell_type": "markdown",
   "metadata": {
    "id": "Jt13sPX0gFk0"
   },
   "source": [
    "<u><b>Things Observed</b></u>\n",
    "- This dataset is clean and therefore we can do some expolratory data analysis on the dataset"
   ]
  },
  {
   "cell_type": "markdown",
   "metadata": {
    "id": "NIQ2FpoWgFk0"
   },
   "source": [
    "#### Analysis on categorical data"
   ]
  },
  {
   "cell_type": "markdown",
   "metadata": {
    "id": "GwRuQxP7gFk1"
   },
   "source": [
    "> Function for analysing categorical features"
   ]
  },
  {
   "cell_type": "code",
   "execution_count": null,
   "metadata": {
    "id": "VSocl0IJgFk1"
   },
   "outputs": [],
   "source": [
    "class catAnalyser:\n",
    "    def __init__(self):\n",
    "        pass\n",
    "\n",
    "    def barPiePlot(self, col):\n",
    "        fig, ax = plt.subplots(2, 1, figsize=(9, 9))\n",
    "        fig.set_facecolor('lightgray')\n",
    "        fig.suptitle(f'Analysis on {col}', size=20, color='darkblue')\n",
    "        df[col].value_counts().plot(\n",
    "            kind='pie', title=f\"Distribution in the {col} column (Pie Chart)\", autopct='%1.1f%%',\n",
    "                shadow=True, startangle=0,  label='index', ax=ax[0])\n",
    "        sns.countplot(y=col, data=df, ax=ax[1])\n",
    "        ax[1].title.set_text(f'Distribution in the {col} column (Pie Chart)')\n",
    "        ax[1].set_ylabel(f\"{col}\", labelpad=10)\n",
    "        ax[1].set_xlabel(\"Count of People\", labelpad=10)\n",
    "        for bars in ax[1].containers:\n",
    "            ax[1].bar_label(bars)\n",
    "        plt.show()\n",
    "\n",
    "    def plotByTarget(self, col):\n",
    "        fig, ax = plt.subplots(3, 1, figsize=(8, 8))\n",
    "        fig.set_facecolor('lightblue')\n",
    "        fig.suptitle(\n",
    "            f'Analysis on {col} by Target Variable', size=20, color='darkblue')\n",
    "        for index, value in enumerate(df['Default payment next month'].unique()):\n",
    "            df[df['Default payment next month'] == value][[col]].value_counts().sort_values().plot(\n",
    "                kind='pie', title=f\"Distribution with respect to value {value}\", autopct='%1.1f%%',\n",
    "                shadow=True, startangle=0, label='index', ax=ax[index])\n",
    "        sns.countplot(y=col, hue='Default payment next month',\n",
    "                      data=df, ax=ax[2])\n",
    "        for bars in ax[2].containers:\n",
    "            ax[2].bar_label(bars)\n",
    "        ax[2].title.set_text(f'Distribution in the {col} column (Pie Chart)')\n",
    "        ax[2].set_ylabel(f\"{col}\", labelpad=10)\n",
    "        ax[2].set_xlabel(\"Count of People\", labelpad=10)\n",
    "        plt.show()\n",
    "\n",
    "\n",
    "catFunc = catAnalyser()\n"
   ]
  },
  {
   "cell_type": "markdown",
   "metadata": {
    "id": "kI8ClkYIgFk1"
   },
   "source": [
    "Retrive the `categorical` features in the dataset"
   ]
  },
  {
   "cell_type": "code",
   "execution_count": null,
   "metadata": {
    "colab": {
     "base_uri": "https://localhost:8080/"
    },
    "id": "vmOy078wgFk2",
    "outputId": "8c08eb2a-f846-4038-dd98-adf052981525"
   },
   "outputs": [],
   "source": [
    "cat_features = [col for col in df.columns if str(df[col].dtype) !='int64'] + ['Default payment next month']\n",
    "print(f'The categorical features are {cat_features}')"
   ]
  },
  {
   "cell_type": "markdown",
   "metadata": {
    "id": "8dvArMTJgFk3"
   },
   "source": [
    "Produce the graph for insights of the dataset"
   ]
  },
  {
   "cell_type": "code",
   "execution_count": null,
   "metadata": {
    "colab": {
     "base_uri": "https://localhost:8080/",
     "height": 1000
    },
    "id": "RPgYridOgFk3",
    "outputId": "07e7e5b0-caf1-4c3d-9505-0587e504e331"
   },
   "outputs": [],
   "source": [
    "for feature in cat_features:\n",
    "    catFunc.barPiePlot(feature)"
   ]
  },
  {
   "cell_type": "markdown",
   "metadata": {
    "id": "SLjBS5aegFk4"
   },
   "source": [
    "<u><b>Things Observed</b></u>\n",
    "- From the first graph , we can see that the dataset has a slightly higher proportion of female as compared to male at 41.2% as compared to 58.7%.\n",
    "    - In addition, the countplot shows that female has over 800 rows while male contains    more than 600 rows\n",
    "- From the second graph, we can see that has a higher proportion of university datas, at 37.7%\n",
    "    - From the countplot, we can see that University data has over 700 rows in total\n",
    "- From the third graph, we can see that a higher proportion of people are single at 56.2% and married at 43.8%.\n",
    "    - From the countplot, we can see that single contains over 800 rows\n",
    "- From the fourth graph, we can see that there is an imbalance of class where the output 0 occurs more than 78.8% of the time\n",
    "    - From the countplot, this amounts to more than 1200 of class 0"
   ]
  },
  {
   "cell_type": "markdown",
   "metadata": {
    "id": "qDBmT2z9gFk4"
   },
   "source": [
    "Analysis on each column with `respect to target variable`"
   ]
  },
  {
   "cell_type": "code",
   "execution_count": null,
   "metadata": {
    "colab": {
     "base_uri": "https://localhost:8080/",
     "height": 1000
    },
    "id": "dx1aCnfQgFk5",
    "outputId": "571abbb6-06cc-4e54-8895-4b2711de9c50"
   },
   "outputs": [],
   "source": [
    "for col in cat_features[0:-1]:\n",
    "    catFunc.plotByTarget(col)"
   ]
  },
  {
   "cell_type": "markdown",
   "metadata": {
    "id": "rKpg1kYRgFk5"
   },
   "source": [
    "<u><b>Things Observed</b></u>\n",
    "- From the first graph of gender to default payment, we can see that female has a higher percentage of 59.4% with male at 40.6%\n",
    "    - From the countplot, we can also see that there is a lower amount of total amount of people with default payment 1 \n",
    "\n",
    "- From the second graph, we can see that university students has the highest percentage of people having classify as default payment 1 but this could be because university has the highest respondents in the dataset\n",
    "\n",
    "- From the third graph, we can see that those that are single has a higher percentage of people  having default payment 1 similarly for default payment 0 but this could be due to higher respondents\n"
   ]
  },
  {
   "cell_type": "markdown",
   "metadata": {
    "id": "dpbNUZRngFk6"
   },
   "source": [
    "#### Analysis on numerical features "
   ]
  },
  {
   "cell_type": "markdown",
   "metadata": {
    "id": "Uco-tmjqgFlF"
   },
   "source": [
    "> Function for analysing numerical features"
   ]
  },
  {
   "cell_type": "code",
   "execution_count": null,
   "metadata": {
    "id": "T_bNpwZ5gFlG"
   },
   "outputs": [],
   "source": [
    "class numericAnalyser:\n",
    "    def __init__(self):\n",
    "        pass\n",
    "\n",
    "    def numPlot(self, col):\n",
    "        fig, ax = plt.subplots(2, 1, figsize=(9, 9))\n",
    "        fig.suptitle('Analysis on Univaraite data',size=20,color='darkblue')\n",
    "        fig.set_facecolor('lightgray')\n",
    "        ax[0].title.set_text(f'Boxplot of {col}')\n",
    "        ax[1].title.set_text(f'Distribution of {col}')\n",
    "        sns.boxplot(x=\"Default payment next month\", y=col, data=df,ax=ax[0])\n",
    "        sns.histplot(x=col,\n",
    "                     data=df,\n",
    "                     stat='density',\n",
    "                     bins=50,\n",
    "                     kde=True,\n",
    "                     line_kws={'color': 'red', 'linewidth': 3}, ax=ax[1])\n",
    "        plt.show()\n",
    "    def ratio(self,col1,col2,ax):\n",
    "        ax.hist(df[col1],alpha=0.5,bins=10)\n",
    "        ax.hist(df[col2],alpha=0.5,bins=10)\n",
    "        ax.set_title(f'{col1} vs {col2}')\n",
    "numFunc = numericAnalyser()"
   ]
  },
  {
   "cell_type": "markdown",
   "metadata": {
    "id": "hMN37o45gFlG"
   },
   "source": [
    "Retrive the `numerical` features in the dataset"
   ]
  },
  {
   "cell_type": "code",
   "execution_count": null,
   "metadata": {
    "colab": {
     "base_uri": "https://localhost:8080/"
    },
    "id": "z1RwLuu1gFlG",
    "outputId": "948e066d-5fc9-4eb3-e686-df202f8b6166"
   },
   "outputs": [],
   "source": [
    "num_features = [col for col in df.columns if col not in cat_features]\n",
    "num_features"
   ]
  },
  {
   "cell_type": "markdown",
   "metadata": {
    "id": "emScof1PgFlH"
   },
   "source": [
    "Produce the graph for insights of the dataset"
   ]
  },
  {
   "cell_type": "code",
   "execution_count": null,
   "metadata": {
    "colab": {
     "base_uri": "https://localhost:8080/",
     "height": 1000
    },
    "id": "Ww_tNWkKgFlZ",
    "outputId": "9b9593f4-589b-4b92-c4c8-310e99c660c6"
   },
   "outputs": [],
   "source": [
    "for col in num_features:\n",
    "    numFunc.numPlot(col)"
   ]
  },
  {
   "cell_type": "markdown",
   "metadata": {
    "id": "A0g4USxegFla"
   },
   "source": [
    "<u><b>Things Observed</b></u>\n",
    "- From the first plot on credit limit, we can see that those who have default payment of 0 have a larger range and interquartile range as compared to those who have a default payment of 1 \n",
    "    - From the histogram, we can see that it is positively skewed, with majority between the 10000 to 20000 range\n",
    "\n",
    "- From the second plot on Age, we can see that those who have default payment of 0 have a smaller range and interquartile range as compared to those who have a default payment of 1\n",
    "    - From the histogram, we can see that age is positively skewed with majority less than the age of 40\n",
    "\n",
    "- From the plots on Bill Amount 1 to 3 month ago, we can see that those who have default payment of 0 have a wider range and interquartile range as compared to those who have a default payment of 1. Both contains numerous outliers\n",
    "    - From the histograms, we can see that Bill Amount 1 to 3 is positively skewed with majority less than 10000\n",
    "    - Also, there are negative values in bill amounts\n",
    "\n",
    "- From the plots on Pay Amount 1 to 3 month ago, we can see that those who have default payment of 0 have a wider range and interquartile range as compared to those who have a default payment of 1. Both contains numerous outliers\n",
    "    - From the histograms, we can see that Pay Amount 1 to 3 is positively skewed with majority less than around 3000"
   ]
  },
  {
   "cell_type": "markdown",
   "metadata": {
    "id": "WhhPMEQagFla"
   },
   "source": [
    "#### Analysis on pay vs bill"
   ]
  },
  {
   "cell_type": "code",
   "execution_count": null,
   "metadata": {
    "colab": {
     "base_uri": "https://localhost:8080/",
     "height": 603
    },
    "id": "rxdaIwgsgFlb",
    "outputId": "05cb6ec8-af7c-437c-9de2-6caf5c88214c"
   },
   "outputs": [],
   "source": [
    "col1s = [f'Pay_Amount{i}' for i in range(1,4)]\n",
    "col2s = [f'Bill_Amount{i}' for i in range(1,4)]\n",
    "fig,ax = plt.subplots(3,1,figsize=(12,10))\n",
    "fig.suptitle('Analysis on pay vs bill',size=20,color='darkblue')\n",
    "index = 0\n",
    "for col1,col2 in zip(col1s,col2s):\n",
    "    ax[index] = numFunc.ratio(col1,col2,ax[index])\n",
    "    index += 1\n",
    "\n",
    "plt.show()"
   ]
  },
  {
   "cell_type": "markdown",
   "metadata": {
    "id": "EbkZ9XosgFlb"
   },
   "source": [
    "<u><b>Things Observed</b></u>\n",
    "-  From the above graph, we can see that for all the pay amount are way less as compared to the bill amount which means that people are underpaying there bill which shows a small proportion is being paid each month"
   ]
  },
  {
   "cell_type": "markdown",
   "metadata": {
    "id": "p3Hi5qzDgFlb"
   },
   "source": [
    "#### Check on the correlation and covariance between each variable"
   ]
  },
  {
   "cell_type": "code",
   "execution_count": null,
   "metadata": {
    "id": "RhFYTdTEFJe4"
   },
   "outputs": [],
   "source": [
    "types = ['pearson','spearman','kendall']"
   ]
  },
  {
   "cell_type": "code",
   "execution_count": null,
   "metadata": {
    "colab": {
     "base_uri": "https://localhost:8080/",
     "height": 1000
    },
    "id": "vw7ylb_tgFlc",
    "outputId": "6a7b5c59-569c-4dc9-b8f5-4b0f9a007f26"
   },
   "outputs": [],
   "source": [
    "fig,ax = plt.subplots(3,1,figsize=(12,13))\n",
    "fig.suptitle('Correlations plot',size=20,color='darkblue')\n",
    "index = 0\n",
    "for tp in types:\n",
    "  # Create the graph and dataframe \n",
    "  ax[index].title.set_text(f'{tp.upper()} correlation')\n",
    "  ax[index] = sns.heatmap(df.corr(method=tp), cmap=\"BuPu\", annot=True,ax=ax[index])\n",
    "  display(df.corr(method = tp).style.bar(color='green'))\n",
    "  index +=1\n",
    "plt.tight_layout()\n",
    "plt.show()\n"
   ]
  },
  {
   "cell_type": "code",
   "execution_count": null,
   "metadata": {
    "colab": {
     "base_uri": "https://localhost:8080/",
     "height": 693
    },
    "id": "NB-LGb4DgFlc",
    "outputId": "a94ae1ae-125c-477a-f958-bd760a0083bb"
   },
   "outputs": [],
   "source": [
    "fig,ax = plt.subplots(1,1,figsize=(8,8))\n",
    "sns.heatmap(df.cov()).set(\n",
    "    title=\"Relationship between the different variables (Covariance)\")\n",
    "plt.show()"
   ]
  },
  {
   "cell_type": "markdown",
   "metadata": {
    "id": "ePls1q60gFld"
   },
   "source": [
    "<u><b>Things Observed</b></u>"
   ]
  },
  {
   "cell_type": "markdown",
   "metadata": {
    "id": "ytbE6SoEgFle"
   },
   "source": [
    "- From the different types correlation plot, we observed that there is a strong relationship between bill amounts and pay amounts for different months\n",
    "  - However, as bill amount 1 2 and 3 are variables that are dependent with each other, `multicollinearity is not found`\n",
    "\n",
    "- From the covariance plot, observe a similar pattern and observe that there could be a relationship between credit limit and age too\n",
    "\n"
   ]
  },
  {
   "cell_type": "markdown",
   "metadata": {
    "id": "gQq8LKU9gFle"
   },
   "source": [
    "#### Analysis on target variable"
   ]
  },
  {
   "cell_type": "code",
   "execution_count": null,
   "metadata": {
    "colab": {
     "base_uri": "https://localhost:8080/",
     "height": 452
    },
    "id": "MTU0su5pgFle",
    "outputId": "1800f069-0770-4c13-836e-3f09d9709272"
   },
   "outputs": [],
   "source": [
    "plt.title('Analysis on the target vraible',)\n",
    "df['Default payment next month'].value_counts().plot(kind='barh')\n",
    "plt.show()"
   ]
  },
  {
   "cell_type": "markdown",
   "metadata": {
    "id": "vGqkt29vgFle"
   },
   "source": [
    "<u><b>Things Observed</b></u>\n",
    "- Here, there is an `imbalance` dataset in the target varable"
   ]
  },
  {
   "cell_type": "markdown",
   "metadata": {
    "id": "JE44U6hegFlf"
   },
   "source": [
    "#### Additional analysis with pandas profiling"
   ]
  },
  {
   "cell_type": "code",
   "execution_count": null,
   "metadata": {
    "colab": {
     "base_uri": "https://localhost:8080/",
     "height": 973,
     "referenced_widgets": [
      "dd4014bc976a43ce92850b2a9560fcdf",
      "2cb6b8d6a5da4cba9507cecb468f99bc",
      "61d2561524e44049b12bdf3870a8346b",
      "938f9436a4f14b51ac9b423457d07aec",
      "35502121a607471c9da5786ff84049a7",
      "a954ce1167bf4859a0b398f09378ab4b",
      "d685cbc4c60d47e2907d35535375ddb2",
      "26cb5ef7b4cd49e0a5994b32172e3e78",
      "0398c31d9ee04277932201505d08b757",
      "a7bd139ea1164bc6ac23520deae60d47",
      "c6fd90e42034411ea89ad6f6d5d001a4",
      "c3a0d763da85480cb4a37d241205477a",
      "2180cbf3a8a3483b8192cdc58e36af4c",
      "f1b0f2a11e544da39f8accee6164cfbe",
      "2fee2bd371844faba5c86b4077df92a6",
      "95df3fd64c164275bfb8a5f8844e8aa8",
      "2fa0ab44c4204d60b31df45f98c7826f",
      "64cb08db645e411cb977246463ee8d92",
      "fd9cc221a53e4d39b89ff17256bee30b",
      "a7e2cb85fa85494db7c4d21ee4e98c7c",
      "62db255f3a80454fb848a190dee3fe31",
      "504a8660c5ac4a51a4ed041e4a42bd80",
      "bf232c6d9c5346119e40a0207e766a9f",
      "df113a98f73f49c6adc02ebe89d24410",
      "47e8e34fa0cd46fa8a621d846123614c",
      "13160f1d00e4449589211454e4adbcdb",
      "3c3300c163f44415bc65d8c813adc24c",
      "f7f248fcad7d418d9e72369ef95de1b3",
      "0a3761065b9f48c493f73c69705ad2da",
      "c27ec299e6a44c31b91d17e0a43507de",
      "9d1b7738fa944eb082ed222ab0e37f6d",
      "4895466bfc17487d862f7170b9a50f16",
      "29f21de0ce264cfaaab250379a0a2ea4"
     ]
    },
    "id": "58h3tiB1gFlf",
    "outputId": "af9b62c3-247e-4e27-a5cd-d5ee39e8acc1"
   },
   "outputs": [],
   "source": [
    "profile = ProfileReport(df)\n",
    "profile"
   ]
  },
  {
   "cell_type": "markdown",
   "metadata": {
    "id": "Lr2Sy2pwKeMq"
   },
   "source": [
    "<u><b>Things Observed</b></u>\n",
    "- Similar to correlation plot we can see high correlation between bill amounts however nothing to be concern as they are not independent variables"
   ]
  },
  {
   "cell_type": "markdown",
   "metadata": {
    "id": "TpkI9PNTgFlf"
   },
   "source": [
    "<a class=\"anchor\" id=\"6\"></a>\n",
    "## <font color='#63B2CB'>__Feature Engineering__</font>"
   ]
  },
  {
   "cell_type": "code",
   "execution_count": null,
   "metadata": {
    "colab": {
     "base_uri": "https://localhost:8080/",
     "height": 591
    },
    "id": "yZbNn2jPgFlg",
    "outputId": "88fff018-13d3-4a91-e329-97d2008c2449"
   },
   "outputs": [],
   "source": [
    "df = pd.read_csv('credit_dataset.csv')\n",
    "df"
   ]
  },
  {
   "cell_type": "markdown",
   "metadata": {
    "id": "-2dlTpPWgFlg"
   },
   "source": [
    "- From the above exploratory data analysis, I have come up with multiple possible features that can be extract"
   ]
  },
  {
   "cell_type": "markdown",
   "metadata": {
    "id": "GYEemy3HgFlg"
   },
   "source": [
    "\\begin{align*}\n",
    "\\text{Difference Between Pay and Bill} &= Pay - Bill\n",
    "\\end{align*}"
   ]
  },
  {
   "cell_type": "markdown",
   "metadata": {
    "id": "lq0i8BAlgFlg"
   },
   "source": [
    "\\begin{align*}\n",
    "\\text{percentage of credit limit (pay)} &= \\frac{Pay}{Credit Limit}\\times{100}\n",
    "\\end{align*}"
   ]
  },
  {
   "cell_type": "markdown",
   "metadata": {
    "id": "V4xKDFufgFlh"
   },
   "source": [
    "\\begin{align*}\n",
    "\\text{percentage of credit limit (bill)} &= \\frac{Pay}{Credit Limit}\\times{100}\n",
    "\\end{align*}"
   ]
  },
  {
   "cell_type": "markdown",
   "metadata": {
    "id": "eg_I0ntVgFlh"
   },
   "source": [
    "\\begin{align*}\n",
    "\\text{marriage and gender} &= marriage + gender\n",
    "\\end{align*}"
   ]
  },
  {
   "cell_type": "markdown",
   "metadata": {
    "id": "suBa1yiPgFlh"
   },
   "source": [
    "\\begin{align*}\n",
    "\\text{Difference from Mean E} &= Bill Amount - Mean(\\text{Bill Amount by Education})\n",
    "\\end{align*}"
   ]
  },
  {
   "cell_type": "markdown",
   "metadata": {
    "id": "9z52xI48gFli"
   },
   "source": [
    "\\begin{align*}\n",
    "\\text{Difference from Mean A} &= Bill Amount - Mean(\\text{Bill Amount by Age})\n",
    "\\end{align*}"
   ]
  },
  {
   "cell_type": "markdown",
   "metadata": {
    "id": "AsJet0CqgFli"
   },
   "source": [
    "> Function for feature extraction here"
   ]
  },
  {
   "cell_type": "code",
   "execution_count": null,
   "metadata": {
    "id": "CL_8GJhYgFlj"
   },
   "outputs": [],
   "source": [
    "class FeatureExtraction():\n",
    "    def __init__(self):\n",
    "        pass\n",
    "    def new_features(self,n:int):\n",
    "      # Function for feature extraction\n",
    "        for i in range(1,n):\n",
    "            pass\n",
    "            df[f'Difference_month{i}'] = df[f'Pay_Amount{i}'] - df[f'Bill_Amount{i}']\n",
    "            df['MarriageGender'] = df['Marriage Status'] +' '+ df['Gender']\n",
    "            df[f'per_of_pay_df_limit{i}'] = (df[f'Pay_Amount{i}'] / df[f'Credit Limit'])*100\n",
    "            df[f'per_of_bill_df_limit{i}'] = (df[f'Bill_Amount{i}'] / df[f'Credit Limit'])*100\n",
    "        \n",
    "        # Mean by education\n",
    "        mean = dict(df.groupby(by = 'Education').mean()['Credit Limit'])\n",
    "        mean = dict(sorted(mean.items(), key=lambda x:x[1]))\n",
    "\n",
    "        df['DifferenceMeanE'] = df['Credit Limit'] -  df[\"Education\"].apply(lambda x: mean.get(x))\n",
    "\n",
    "         # Mean by Gender\n",
    "        mean = dict(df.groupby(by = 'Gender').mean()['Credit Limit'])\n",
    "        mean = dict(sorted(mean.items(), key=lambda x:x[1]))\n",
    "\n",
    "        df['DifferenceMeanG'] = df['Credit Limit'] -  df[\"Gender\"].apply(lambda x: mean.get(x))\n",
    "        \n",
    "         # Mean by MarriageGender\n",
    "        mean = dict(df.groupby(by = 'MarriageGender').mean()['Credit Limit'])\n",
    "        mean = dict(sorted(mean.items(), key=lambda x:x[1]))\n",
    "\n",
    "        df['DifferenceMeanMG'] = df['Credit Limit'] -  df[\"MarriageGender\"].apply(lambda x: mean.get(x))\n",
    "        return df\n",
    "featureFunc = FeatureExtraction()\n"
   ]
  },
  {
   "cell_type": "code",
   "execution_count": null,
   "metadata": {
    "colab": {
     "base_uri": "https://localhost:8080/",
     "height": 556
    },
    "id": "PNxRDDWkgFlk",
    "outputId": "882910b2-ca1b-4b67-cd37-942424e23395"
   },
   "outputs": [],
   "source": [
    "featureFunc.new_features(4)"
   ]
  },
  {
   "cell_type": "markdown",
   "metadata": {
    "id": "bvTkvboVgFlk"
   },
   "source": [
    "#### Feature selection "
   ]
  },
  {
   "cell_type": "markdown",
   "metadata": {
    "id": "z2g0_nRDgFlk"
   },
   "source": [
    "- Drop customer id due to no importance in the dataset"
   ]
  },
  {
   "cell_type": "code",
   "execution_count": null,
   "metadata": {
    "colab": {
     "base_uri": "https://localhost:8080/",
     "height": 556
    },
    "id": "9W9knGfagFll",
    "outputId": "5d6ce509-6bca-4edb-ed54-53d53fdbabf9"
   },
   "outputs": [],
   "source": [
    "df = df.drop('Customer ID',axis=1)\n",
    "display(df)"
   ]
  },
  {
   "cell_type": "markdown",
   "metadata": {
    "id": "Kotqrf3qgFll"
   },
   "source": [
    "#### Rows Selection\n",
    "- As we observed from exploratory data analysis, we can see that there are bill amounts that are less than 0 and that the default payment is 0 so that we do not affect the minority class"
   ]
  },
  {
   "cell_type": "code",
   "execution_count": null,
   "metadata": {
    "colab": {
     "base_uri": "https://localhost:8080/",
     "height": 556
    },
    "id": "LCK1BHLFgFll",
    "outputId": "8bdead4d-9851-4d08-a42f-91f0b6678213"
   },
   "outputs": [],
   "source": [
    "df = df[~((df['Bill_Amount3'] <= 0) & (df['Bill_Amount2'] <= 0) &(df['Bill_Amount1'] <= 0) & (df['Default payment next month'] == 0))]\n",
    "df=df.reset_index().drop('index', axis = 1)\n",
    "df"
   ]
  },
  {
   "cell_type": "markdown",
   "metadata": {
    "id": "oUT5C-zRgFlm"
   },
   "source": [
    "Create a original dataframe for furture comparison"
   ]
  },
  {
   "cell_type": "code",
   "execution_count": null,
   "metadata": {
    "colab": {
     "base_uri": "https://localhost:8080/",
     "height": 591
    },
    "id": "3dKaLM8YgFlm",
    "outputId": "e2499992-a96f-436c-b013-11f09f973032"
   },
   "outputs": [],
   "source": [
    "original_df = pd.read_csv('credit_dataset.csv')\n",
    "original_df = original_df.drop('Customer ID',axis=1)\n",
    "original_df"
   ]
  },
  {
   "cell_type": "markdown",
   "metadata": {
    "id": "EZGP39SzgFlm"
   },
   "source": [
    "<a class=\"anchor\" id=\"7\"></a>\n",
    "## <font color='#63B2CB'>__Data Preprocessing__</font>"
   ]
  },
  {
   "cell_type": "markdown",
   "metadata": {
    "id": "1PwyiXBmSs4X"
   },
   "source": [
    "Answeing to `  Did you process the features in any way? `"
   ]
  },
  {
   "cell_type": "markdown",
   "metadata": {
    "id": "5jxbKXIVgFln"
   },
   "source": [
    "#### Encoding for those that are categorical data"
   ]
  },
  {
   "cell_type": "code",
   "execution_count": null,
   "metadata": {
    "id": "gDGcX94-gFln"
   },
   "outputs": [],
   "source": [
    "df_encode = df.copy()"
   ]
  },
  {
   "cell_type": "markdown",
   "metadata": {
    "id": "-oL_QrpwgFln"
   },
   "source": [
    "- One Hot encoding\n",
    "- Label encoder\n",
    "- Ordinal Encoder\n",
    "- Custom Encoding"
   ]
  },
  {
   "cell_type": "markdown",
   "metadata": {
    "id": "5pWb97CkgFlo"
   },
   "source": [
    "Here we will encode those that are for ordinal encoding\n",
    "- Marraige status has only two different unique values\n",
    "- Gender has two unique values only"
   ]
  },
  {
   "cell_type": "code",
   "execution_count": null,
   "metadata": {
    "colab": {
     "base_uri": "https://localhost:8080/",
     "height": 556
    },
    "id": "nJMMohqlgFlo",
    "outputId": "6f102bff-69b2-4f12-ed72-dbd56f05cf80"
   },
   "outputs": [],
   "source": [
    "oe = OrdinalEncoder()\n",
    "df_encode['Marriage Statu'] = oe.fit_transform(df_encode[['Marriage Status']])\n",
    "pd.DataFrame(df_encode)"
   ]
  },
  {
   "cell_type": "code",
   "execution_count": null,
   "metadata": {
    "colab": {
     "base_uri": "https://localhost:8080/",
     "height": 556
    },
    "id": "FM9Youj_gFlo",
    "outputId": "96fcfdae-dec4-4510-f628-ab1248287410"
   },
   "outputs": [],
   "source": [
    "oe = OrdinalEncoder()\n",
    "df_encode['Gender'] = oe.fit_transform(df_encode[['Gender']])\n",
    "pd.DataFrame(df_encode)"
   ]
  },
  {
   "cell_type": "markdown",
   "metadata": {
    "id": "UjhYlv1ggFlp"
   },
   "source": [
    "Here we will create a class for custom encoding\n",
    "- For education, education status result in less likely to default payment due to regular income"
   ]
  },
  {
   "cell_type": "code",
   "execution_count": null,
   "metadata": {
    "id": "B_A44m-QgFlp"
   },
   "outputs": [],
   "source": [
    "class CustomEncoder(BaseEstimator, TransformerMixin):\n",
    "    def fit(self, X, y=None):\n",
    "        return self\n",
    "    \n",
    "    def transform(self, X):\n",
    "        encoded_values = []\n",
    "        for value in X:\n",
    "            if value == 'high school':\n",
    "                encoded_values.append([0])\n",
    "            elif value == 'university':\n",
    "                encoded_values.append([1])\n",
    "            else:\n",
    "                encoded_values.append([2])\n",
    "        return np.array(encoded_values)\n",
    "\n",
    "    def fit_transform(self, X, y=None):\n",
    "        return self.transform(X)\n",
    "custom_encoder = CustomEncoder()"
   ]
  },
  {
   "cell_type": "code",
   "execution_count": null,
   "metadata": {
    "colab": {
     "base_uri": "https://localhost:8080/",
     "height": 504
    },
    "id": "iM0ii0wqgFlp",
    "outputId": "cb27b10f-c2ee-48de-d8eb-5aba6c03ab81"
   },
   "outputs": [],
   "source": [
    "df_encode['Education'] = custom_encoder.fit_transform(df_encode['Education'])\n",
    "df_encode"
   ]
  },
  {
   "cell_type": "markdown",
   "metadata": {
    "id": "8JEVn93TgFlq"
   },
   "source": [
    "- Above are the final encoded section"
   ]
  },
  {
   "cell_type": "markdown",
   "metadata": {
    "id": "rQ1HAZWPgFlq"
   },
   "source": [
    "#### Create the target variable and the features"
   ]
  },
  {
   "cell_type": "markdown",
   "metadata": {
    "id": "US2EWo2ZgFlq"
   },
   "source": [
    "- Here the target variable is Default payment next month hence y will contain just that while x will contain other variales"
   ]
  },
  {
   "cell_type": "code",
   "execution_count": null,
   "metadata": {
    "colab": {
     "base_uri": "https://localhost:8080/",
     "height": 556
    },
    "id": "ab5QxM3ugFlq",
    "outputId": "773cd764-3c28-473c-f26f-b30755bdc9d4"
   },
   "outputs": [],
   "source": [
    "X = df.drop(['Default payment next month'],axis=1)\n",
    "y = df['Default payment next month']\n",
    "X"
   ]
  },
  {
   "cell_type": "markdown",
   "metadata": {
    "id": "YoisE_uzgFlr"
   },
   "source": [
    "- Here we will do the same to the original dataset"
   ]
  },
  {
   "cell_type": "code",
   "execution_count": null,
   "metadata": {
    "id": "AM7he2KbgFlr"
   },
   "outputs": [],
   "source": [
    "X_original = original_df.drop('Default payment next month',axis=1)\n",
    "y_original = original_df['Default payment next month']"
   ]
  },
  {
   "cell_type": "markdown",
   "metadata": {
    "id": "B98FS-NBgFlr"
   },
   "source": [
    "#### Split the dataset into train and test"
   ]
  },
  {
   "cell_type": "markdown",
   "metadata": {
    "id": "ruiqOTPPgFls"
   },
   "source": [
    "- Set the train test split for data that `have not been` feature engineered"
   ]
  },
  {
   "cell_type": "code",
   "execution_count": null,
   "metadata": {
    "id": "mlVRPq7ZgFls"
   },
   "outputs": [],
   "source": [
    "X_train_original, X_test_original, y_train_original, y_test_original = train_test_split(X_original, y_original, test_size=.2, stratify=y_original, shuffle=True,random_state = 32)"
   ]
  },
  {
   "cell_type": "markdown",
   "metadata": {
    "id": "jaByarIwgFls"
   },
   "source": [
    "- Set the train test split for data that `have been` feature engineered"
   ]
  },
  {
   "cell_type": "code",
   "execution_count": null,
   "metadata": {
    "id": "W6HFtwaJgFlt"
   },
   "outputs": [],
   "source": [
    "X_train, X_test, y_train, y_test = train_test_split(X, y, test_size=.2, stratify=y, shuffle=True,random_state = 32)"
   ]
  },
  {
   "cell_type": "markdown",
   "metadata": {
    "id": "vorO_iZsgFlt"
   },
   "source": [
    "<a class=\"anchor\" id=\"8\"></a>\n",
    "## <font color='#63B2CB'>__Pipeline Building__ (Basline)</font>"
   ]
  },
  {
   "cell_type": "markdown",
   "metadata": {
    "id": "tKV0eItAgFlt"
   },
   "source": [
    "- Get the numeric features on data that `have not been` feature engineered"
   ]
  },
  {
   "cell_type": "code",
   "execution_count": null,
   "metadata": {
    "colab": {
     "base_uri": "https://localhost:8080/"
    },
    "id": "DU371fIEgFlt",
    "outputId": "26ce07b0-253d-4f7d-9816-e8887be711f6"
   },
   "outputs": [],
   "source": [
    "num_features_original = [col for col in X_train_original.columns if str(original_df[col].dtype) != 'object']\n",
    "num_features_original"
   ]
  },
  {
   "cell_type": "markdown",
   "metadata": {
    "id": "CR1oLWpbgFlu"
   },
   "source": [
    "- Get the numeric features on data that `have been` feature engineered"
   ]
  },
  {
   "cell_type": "code",
   "execution_count": null,
   "metadata": {
    "colab": {
     "base_uri": "https://localhost:8080/"
    },
    "id": "ypWszZWYgFlu",
    "outputId": "9dab125b-dc72-4ed7-d52e-68ac4421ece9"
   },
   "outputs": [],
   "source": [
    "num_features = [ col for col in df.columns if str(df[col].dtype) != 'object']\n",
    "num_features.remove('Default payment next month')\n",
    "print(num_features)"
   ]
  },
  {
   "cell_type": "markdown",
   "metadata": {
    "id": "iPxDQLIzgFlu"
   },
   "source": [
    "> Functions for pipeline building \n",
    "- Nunmeric value fo scaled using `Normaliser`"
   ]
  },
  {
   "cell_type": "code",
   "execution_count": null,
   "metadata": {
    "id": "oIjkon5ngFlv"
   },
   "outputs": [],
   "source": [
    "class pipeline:\n",
    "    def __init__(self):\n",
    "        pass\n",
    "\n",
    "    def pipeline_step(self, original, num_features):\n",
    "      # Numeric transformer for numeric values\n",
    "        numeric_transformer = Pipeline([(\"imputer\", SimpleImputer(\n",
    "            strategy=\"median\")), ('scaler', Normalizer())])\n",
    "        \n",
    "        # Categorical transformer for ordinal encoding\n",
    "        categorical_transformer = Pipeline([(\"imputer\", SimpleImputer(\n",
    "            strategy='most_frequent')),\n",
    "            ('oe', OrdinalEncoder())])\n",
    "        \n",
    "        # Customer encoder\n",
    "        categorical_transformer2 = Pipeline([(\"imputer\", SimpleImputer(\n",
    "            strategy='most_frequent')),\n",
    "            ('custom',  CustomEncoder())])\n",
    "        \n",
    "        # One hot encoding\n",
    "        categorical_transformer3 = Pipeline([(\"imputer\", SimpleImputer(\n",
    "            strategy='most_frequent')),\n",
    "            ('ohe', OneHotEncoder())])\n",
    "        \n",
    "        # original and not original preporcessing step\n",
    "        if original:\n",
    "            preprocessing_step = ColumnTransformer(\n",
    "                [\n",
    "                    (\"numeric\", numeric_transformer, num_features),\n",
    "                    ('oe', categorical_transformer,\n",
    "                     ['Marriage Status', 'Gender']),\n",
    "                    ('custom_e', categorical_transformer2, ['Education']),\n",
    "                ],\n",
    "                remainder=\"passthrough\",\n",
    "            )\n",
    "        else:\n",
    "            preprocessing_step = ColumnTransformer(\n",
    "                [\n",
    "                    (\"numeric\", numeric_transformer, num_features),\n",
    "                    ('oe', categorical_transformer,\n",
    "                     ['Marriage Status', 'Gender']),\n",
    "                    ('custom_e', categorical_transformer2, ['Education']),\n",
    "                    ('ohe', categorical_transformer3, ['MarriageGender'])\n",
    "                ],\n",
    "                remainder=\"passthrough\",\n",
    "            )\n",
    "        process = [('preprocessing', preprocessing_step)]\n",
    "        return process\n",
    "\n",
    "\n",
    "\n",
    "\n",
    "p = pipeline()\n"
   ]
  },
  {
   "cell_type": "markdown",
   "metadata": {
    "id": "0k6h0MghgFlv"
   },
   "source": [
    "- Generate the pipeline for `original` data"
   ]
  },
  {
   "cell_type": "code",
   "execution_count": null,
   "metadata": {
    "colab": {
     "base_uri": "https://localhost:8080/"
    },
    "id": "S0eVwKshgFlv",
    "outputId": "086f8606-72a3-47c1-b4a4-8524877db3ad"
   },
   "outputs": [],
   "source": [
    "pipeline_step_original = p.pipeline_step(True,num_features_original)\n",
    "pipeline_step_original"
   ]
  },
  {
   "cell_type": "markdown",
   "metadata": {
    "id": "f6N3RPXKgFlw"
   },
   "source": [
    "- Generate the pipeline for `original` data"
   ]
  },
  {
   "cell_type": "code",
   "execution_count": null,
   "metadata": {
    "colab": {
     "base_uri": "https://localhost:8080/"
    },
    "id": "GWEZTlnQgFlw",
    "outputId": "859c8e5e-70fd-4530-943f-6f0f66289f4a"
   },
   "outputs": [],
   "source": [
    "pipeline_step = p.pipeline_step(False,num_features)\n",
    "pipeline_step"
   ]
  },
  {
   "cell_type": "markdown",
   "metadata": {
    "id": "P-1-sZALgFlw"
   },
   "source": [
    "<a class=\"anchor\" id=\"8\"></a>\n",
    "## <font color='#63B2CB'> __Model (Baseline)__</font>"
   ]
  },
  {
   "cell_type": "markdown",
   "metadata": {
    "id": "fa6sjFmagFlw"
   },
   "source": [
    "- Here we will do a baseline model across different types of machine learning algorithm"
   ]
  },
  {
   "cell_type": "code",
   "execution_count": null,
   "metadata": {
    "id": "dYPkmwzDgFlx"
   },
   "outputs": [],
   "source": [
    "class model:\n",
    "    def __init__(self):\n",
    "        pass\n",
    "   \n",
    "    def plot_learning_curve(self, name, model,X,y,ax):\n",
    "        train_sizes, train_scores, test_scores = learning_curve(\n",
    "            estimator=model, X=X, y=y,   cv=StratifiedKFold(n_splits=10), train_sizes=np.linspace(0.1, 1.0, 10),\n",
    "                                                     n_jobs=1)\n",
    "        train_mean = np.mean(train_scores, axis=1)\n",
    "        train_std = np.std(train_scores, axis=1)\n",
    "        test_mean = np.mean(test_scores, axis=1)\n",
    "        test_std = np.std(test_scores, axis=1)\n",
    "        ax.set_ylim([-0.2,1.2])\n",
    "        ax.plot(train_sizes, train_mean, color='blue', marker='o',\n",
    "                markersize=5, label='Training Accuracy')\n",
    "        ax.plot(train_sizes, test_mean, color='green', marker='+',\n",
    "                markersize=5, linestyle='--', label='Validation Accuracy')\n",
    "        ax.set_title(f'Learning Curve {name}')\n",
    "        ax.set_xlabel('Training Data Size')\n",
    "        ax.set_ylabel('Model accuracy')\n",
    "        ax.grid()\n",
    "        ax.legend(loc='lower right')\n",
    "modelFunc = model()"
   ]
  },
  {
   "cell_type": "markdown",
   "metadata": {
    "id": "7pizGy2QgFlx"
   },
   "source": [
    "#### Setting the evluation metrics for classification model"
   ]
  },
  {
   "cell_type": "code",
   "execution_count": null,
   "metadata": {
    "colab": {
     "base_uri": "https://localhost:8080/"
    },
    "id": "PlBRiaRegFlx",
    "outputId": "8db43ba0-eba9-4676-b1af-d441bb507b00"
   },
   "outputs": [],
   "source": [
    "evaluation = [\"accuracy\", \"f1_weighted\",\"recall\", \"precision\",\"roc_auc\"]\n",
    "evaluation"
   ]
  },
  {
   "cell_type": "markdown",
   "metadata": {
    "id": "nbkTj2SCgFly"
   },
   "source": [
    "- Setting the dataframe evaluation train and test"
   ]
  },
  {
   "cell_type": "code",
   "execution_count": null,
   "metadata": {
    "colab": {
     "base_uri": "https://localhost:8080/"
    },
    "id": "_L0IuIlwgFly",
    "outputId": "85c71620-6aa4-4d3d-e702-809faa9f33c3"
   },
   "outputs": [],
   "source": [
    "def dataframeColumns(keys):\n",
    "    col = ['model','fit_time','score_time']\n",
    "    for i in keys:\n",
    "        col.append(f'test_{i}')\n",
    "        col.append(f'train_{i}')\n",
    "    return col\n",
    "evaluation_col = (dataframeColumns(evaluation))  \n",
    "evaluation_col"
   ]
  },
  {
   "cell_type": "markdown",
   "metadata": {
    "id": "mqaCArzjgFly"
   },
   "source": [
    "#### Set the model"
   ]
  },
  {
   "cell_type": "markdown",
   "metadata": {
    "id": "SOpirUuQZG8o"
   },
   "source": [
    "Answering to ` How did you select which learning algorithms to use?\n",
    "`"
   ]
  },
  {
   "cell_type": "markdown",
   "metadata": {
    "id": "CuFkvvB1gFly"
   },
   "source": [
    "- LogisticRegressionClf\n",
    "  - Simple model for classification that is easy to be interpret and performs well when relationship are close to linear \n",
    "- KNeighborsClf\n",
    "  - Simplest of all algorithms which labels the new data point base on its closest neighbours \n",
    "- DecisionTreeClf\n",
    "  - Subdivide the feature space into with mostly the same label\n",
    "  - Can capture linear and non linear relationship in both numerical and categorical datas\n",
    "- ExtraTreesClf\n",
    "  - Extra Trees is an ensemble method based on decision trees which  reduces overfitting by using randomization during the tree-building process.\n",
    "- RandomForestClf\n",
    "  - Ensemble method that combines multiple decision trees that  reduces overfitting and provides better generalization performance and high-dimensional data and capture non-linear relationships\n",
    "- GradientBoostingClf,\n",
    "  - Builds models sequentially, each correcting the mistakes of the previous model which can capture complex relationship\n",
    "- HistGBClf\n",
    "  - Variantof gradient boosting that uses histograms to speed up training whichcan handle large datasets and provides efficient training and prediction.\n",
    "- AdaBoostClf\n",
    "  - Ensemble method that combines multiple weak classifiers which  focuses on difficult-to-classify examples, improving overall accuracy\n",
    "- SVC\n",
    " - Versatile classifier for binary and multi-class classification tasks which  can handle high-dimensional data and capture non-linear relationships using kernel tricks.\n",
    "- Neural Network\n",
    "   - Highly flexible and can learn complex patterns and relationships \n"
   ]
  },
  {
   "cell_type": "code",
   "execution_count": null,
   "metadata": {
    "id": "NLLsh-mHgFlz"
   },
   "outputs": [],
   "source": [
    "classification_models = {\n",
    "    \"LogisticRegressionClf\": LogisticRegression(solver='newton-cg'),\n",
    "    \"KNeighborsClf\": KNeighborsClassifier(),\n",
    "    'DecisionTreeClf': DecisionTreeClassifier(),\n",
    "    \"ExtraTreesClf\": ExtraTreesClassifier(),\n",
    "    \"RandomForestClf\": RandomForestClassifier(class_weight={0: 1, 1: 10}),\n",
    "    \"GradientBoostingClf\": GradientBoostingClassifier(),\n",
    "    'HistGBClf': HistGradientBoostingClassifier(learning_rate=0.15),\n",
    "    \"AdaBoostClf\": AdaBoostClassifier(),\n",
    "    'SVC': SVC(),\n",
    "    'Neural Network': MLPClassifier()\n",
    "}\n",
    "\n",
    "pipeline_step.append(0)\n",
    "pipeline_step_original.append(0)\n"
   ]
  },
  {
   "cell_type": "markdown",
   "metadata": {
    "id": "xWvcy0DfgFlz"
   },
   "source": [
    "#### Testing against different models"
   ]
  },
  {
   "cell_type": "code",
   "execution_count": null,
   "metadata": {
    "colab": {
     "base_uri": "https://localhost:8080/",
     "height": 132
    },
    "id": "QAhRkVJZgFl0",
    "outputId": "75c75d27-0d19-4490-f7d5-cca5a689767f"
   },
   "outputs": [],
   "source": [
    "def run_models(models,step,X,y,X_test,y_test):\n",
    "  # Run the different models in a loop\n",
    "    baseline_df = pd.DataFrame(columns = evaluation_col)\n",
    "    i = 0 \n",
    "    fig, ax = plt.subplots(2, 5, figsize=(15, 13))\n",
    "    for model_name,model in models.items():\n",
    "        step[-1] = ('clf',model)\n",
    "\n",
    "        clf = Pipeline(steps=step)\n",
    "        \n",
    "        clf.fit(X, y)\n",
    "        print(colored(model_name, 'green'),'is running')\n",
    "        print(f\"Model Accuracy Score :{clf.score(X, y)}\")\n",
    "        \n",
    "        scores = cross_validate(clf,X,y,cv=StratifiedKFold(n_splits=10),scoring=evaluation,n_jobs=-1,return_train_score=True )\n",
    "\n",
    "        display(pd.DataFrame(scores).mean())\n",
    "\n",
    "        new_row = dict(pd.DataFrame(scores).mean())\n",
    "        new_row.update({'model':model_name})\n",
    "        \n",
    "        baseline_df = baseline_df.append(new_row, ignore_index=True)\n",
    "        fig.suptitle('Learning Curves')\n",
    "        row = i // 5\n",
    "        col = i % 5  \n",
    "        modelFunc.plot_learning_curve(model_name,clf,X,y,ax=ax[row,col])\n",
    "        i += 1\n",
    "    plt.tight_layout()\n",
    "    plt.show()\n",
    "    return baseline_df\n"
   ]
  },
  {
   "cell_type": "markdown",
   "metadata": {
    "id": "I3G0E9zOpGMU"
   },
   "source": [
    "#### Dummy Classier"
   ]
  },
  {
   "cell_type": "code",
   "execution_count": null,
   "metadata": {
    "colab": {
     "base_uri": "https://localhost:8080/",
     "height": 277
    },
    "id": "tUUAHmn8pJic",
    "outputId": "c6fe7089-4bdc-4301-d135-a742a2d1a08c"
   },
   "outputs": [],
   "source": [
    "pipeline_step_original[-1] = ('dummy_model',DummyClassifier())\n",
    "dummy_model = Pipeline(steps=pipeline_step_original)\n",
    "dummy_model.fit(X_train_original, y_train_original)\n",
    "print(colored('Dummy Classifier', 'green'),'is running')\n",
    "print(f\"Model Accuracy Score :{dummy_model.score(X, y)}\")\n",
    "scores = cross_validate(dummy_model,X_train,y_train,cv=StratifiedKFold(n_splits=10),scoring=evaluation,n_jobs=-1,return_train_score=True )\n",
    "dummy_scores = pd.DataFrame(scores)\n",
    "display(dummy_scores)"
   ]
  },
  {
   "cell_type": "markdown",
   "metadata": {
    "id": "pKfXUUlggFl0"
   },
   "source": [
    "- Run the different classification models"
   ]
  },
  {
   "cell_type": "code",
   "execution_count": null,
   "metadata": {
    "colab": {
     "base_uri": "https://localhost:8080/",
     "height": 1000
    },
    "id": "lerCbe2kgFl1",
    "outputId": "7513ef30-729e-41e3-e8a4-7cd2e7e2c262"
   },
   "outputs": [],
   "source": [
    "baseline_original_df = run_models(classification_models,pipeline_step_original,X_train_original,y_train_original,X_test_original,y_test_original)"
   ]
  },
  {
   "cell_type": "markdown",
   "metadata": {
    "id": "_g_NsnADisR-"
   },
   "source": [
    "<u><b>Things Observed</b></u>\n",
    "- All the models did not experience any overfitting"
   ]
  },
  {
   "cell_type": "markdown",
   "metadata": {
    "id": "w9tj9CgSgFl1"
   },
   "source": [
    "- Run the different classification models"
   ]
  },
  {
   "cell_type": "code",
   "execution_count": null,
   "metadata": {
    "colab": {
     "base_uri": "https://localhost:8080/",
     "height": 1000
    },
    "id": "Cj1jhdn3gFl1",
    "outputId": "d0b705e0-f286-469c-d63d-0236fc7a637a"
   },
   "outputs": [],
   "source": [
    "baselin2_df  = run_models(classification_models,pipeline_step,X_train,y_train,X_test,y_test)"
   ]
  },
  {
   "cell_type": "markdown",
   "metadata": {
    "id": "CDYokI9lGoFx"
   },
   "source": [
    "<u><b>Things Observed</b></u>\n",
    "- All the models did not experience any overfitting"
   ]
  },
  {
   "cell_type": "markdown",
   "metadata": {
    "id": "FaW-vjJegFl2"
   },
   "source": [
    "<a class=\"anchor\" id=\"9\"></a>\n",
    "## <font color='#63B2CB'>__Analysis of the result of each model__</font>"
   ]
  },
  {
   "cell_type": "markdown",
   "metadata": {
    "id": "fQQmk0FZgFl2"
   },
   "source": [
    "- Accuracy Score (Focus)\n",
    "    - Accuracy score function computes the accuracy, the percentage of\n",
    "correct prediction\n",
    "\\begin{align*}\n",
    "\\text{Auccracy} &= \\frac{\\text{TP + TN}}{\\text{TP + FN + 𝑇𝑃 + 𝐹𝑁}}\n",
    "\\end{align*}\n",
    "- Recall (Focus)   \n",
    " - Proportion of actual positives was predicted correctly\n",
    "\\begin{align*}\n",
    "\\text{Recall} &= \\frac{\\text{TP}}{\\text{TP + FN}}\n",
    "\\end{align*}\n",
    "- Precision\n",
    "    - Proportion of positive predictions was actually correct\n",
    "\\begin{align*}\n",
    "\\text{Precision} &= \\frac{\\text{TP}}{\\text{TP + FP}}\n",
    "\\end{align*}\n",
    "- F1 score\n",
    "    - Harmonic mean of precision and recall\n",
    "- ROC \n",
    "    - ROC curve (receiver operating characteristic curve) is a graph showing the\n",
    "performance of a classification model at all classification thresholds\n",
    "\n",
    "> Note for this model I will focus on recall and accuracy score due to the need of predicting true positive and it is always better to be safe than sorry for default payment"
   ]
  },
  {
   "cell_type": "markdown",
   "metadata": {
    "id": "NgyOzTX6gFl3"
   },
   "source": [
    "Original data without feature engineering"
   ]
  },
  {
   "cell_type": "code",
   "execution_count": null,
   "metadata": {
    "colab": {
     "base_uri": "https://localhost:8080/",
     "height": 382
    },
    "id": "l_HOklUggFl3",
    "outputId": "f6a555b0-ef5b-4a6a-efbb-26b7908c4c0f"
   },
   "outputs": [],
   "source": [
    "baseline_original_df.sort_values(by='test_accuracy',ascending=False).style.bar(subset =['test_accuracy','test_f1_weighted','test_recall','test_precision','test_roc_auc'],color='green')"
   ]
  },
  {
   "cell_type": "markdown",
   "metadata": {
    "id": "IpyGtlfggFl3"
   },
   "source": [
    "<u><b>Things Observed</b></u>\n",
    "- In this original dataframe, we can see that `Logistic Regression` has the highest test_accuracy\n",
    "- In addition we can see that the test precision and test recall all have scores of less than 0.5, showing the imbalance class in the dataset"
   ]
  },
  {
   "cell_type": "markdown",
   "metadata": {
    "id": "5cUI6WWigFl3"
   },
   "source": [
    "Check with classification report for logistic regression"
   ]
  },
  {
   "cell_type": "code",
   "execution_count": null,
   "metadata": {
    "colab": {
     "base_uri": "https://localhost:8080/"
    },
    "id": "2Rd80SuagFl4",
    "outputId": "b406dd7e-364a-4c81-9e17-b8b103853ebb"
   },
   "outputs": [],
   "source": [
    "pipeline_step_original[-1] =  (\"LogisticRegressionClf\", LogisticRegression(solver='newton-cg'))\n",
    "clf = Pipeline(steps=pipeline_step_original)\n",
    "\n",
    "clf.fit(X_train_original,y_train_original)\n",
    "print(classification_report(y_test_original,clf.predict(X_test_original)))"
   ]
  },
  {
   "cell_type": "markdown",
   "metadata": {
    "id": "64MxsmpvgFl4"
   },
   "source": [
    "<u><b>Things Observed</b></u>\n",
    "- From the classification report, we can see that the f1 score accuracy is `0.69 `, precision is `0.62` and recall is `0.79`\n"
   ]
  },
  {
   "cell_type": "markdown",
   "metadata": {
    "id": "ZSIMFmSGgFl4"
   },
   "source": [
    "Data after feature engineering"
   ]
  },
  {
   "cell_type": "code",
   "execution_count": null,
   "metadata": {
    "colab": {
     "base_uri": "https://localhost:8080/",
     "height": 221
    },
    "id": "lR6tE8AfgFl4",
    "outputId": "186432f7-2700-4105-99c2-0924869bc155"
   },
   "outputs": [],
   "source": [
    "baselin2_df.sort_values(by='test_accuracy',ascending=False).style.bar(subset =['test_accuracy','test_f1_weighted','test_recall','test_precision','test_roc_auc'],color='green')"
   ]
  },
  {
   "cell_type": "markdown",
   "metadata": {
    "id": "wgrDBhRTgFl5"
   },
   "source": [
    "<u><b>Things Observed</b></u>\n",
    "- From the above styled dataframe, we can see that `RandomForestClassifer` has the highest test accuracy at 0.793\n",
    "- In addition, the test recall, test precision, all has value less than 0.5"
   ]
  },
  {
   "cell_type": "code",
   "execution_count": null,
   "metadata": {
    "id": "FxYVlIoqgFl5"
   },
   "outputs": [],
   "source": [
    "pipeline_step[-1] =  (\"RandomForestClf\", RandomForestClassifier())\n",
    "clf = Pipeline(steps=pipeline_step)\n",
    "\n",
    "clf.fit(X_train,y_train)\n",
    "print(classification_report(y_test,clf.predict(X_test)))"
   ]
  },
  {
   "cell_type": "markdown",
   "metadata": {
    "id": "bTLWUjKFgFl5"
   },
   "source": [
    "<u><b>Things Observed</b></u>\n",
    "- From the classification report, we can see that the f1-score has a score of  `0.8`, recall of `0.81` and precision of `0.79`"
   ]
  },
  {
   "cell_type": "markdown",
   "metadata": {
    "id": "nU6J_NtkL7nv"
   },
   "source": [
    "#### Compare the difference"
   ]
  },
  {
   "cell_type": "code",
   "execution_count": null,
   "metadata": {
    "colab": {
     "base_uri": "https://localhost:8080/",
     "height": 426
    },
    "id": "6alnWX7yL-Qc",
    "outputId": "6d970486-e613-457e-8432-5e5daa4b9a31"
   },
   "outputs": [],
   "source": [
    "# Setting the difference \n",
    "difference = pd.DataFrame(columns = [evaluation_col[0]]+evaluation_col[3:])\n",
    "for i in evaluation_col[3:]:\n",
    "  dif = baselin2_df[i] - baseline_original_df[i]\n",
    "  difference[i] = dif\n",
    "difference['model'] = baselin2_df['model']\n",
    "difference"
   ]
  },
  {
   "cell_type": "markdown",
   "metadata": {
    "id": "JkZMz-nuPCzb"
   },
   "source": [
    "<u><b>Things Observed</b></u>\n",
    "- Test Accuracy: About half of the model increase while the rest remain the same\n",
    "- Test recall increase for majority of the model\n"
   ]
  },
  {
   "cell_type": "markdown",
   "metadata": {
    "id": "lT9SY8uPgFl6"
   },
   "source": [
    "<a class=\"anchor\" id=\"10\"></a>\n",
    "## <font color='#63B2CB'>__Advanced model (with discretization and resample on variables)__</font>"
   ]
  },
  {
   "cell_type": "markdown",
   "metadata": {
    "id": "I_R7zBpRgFl6"
   },
   "source": [
    "From our observations previously, we observe that some variables can be discretize such as age, credit amount, percentage of credit (bill and pay), difference comparison"
   ]
  },
  {
   "cell_type": "markdown",
   "metadata": {
    "id": "1Mft4WgtgFl6"
   },
   "source": [
    "- Types of discretization\n",
    "    - Pandas get dummies\n",
    "    - KBins (Selected)\n",
    "    "
   ]
  },
  {
   "cell_type": "markdown",
   "metadata": {
    "id": "tMKQ_koPgFl6"
   },
   "source": [
    "#### Additional feature selection with sklearn"
   ]
  },
  {
   "cell_type": "markdown",
   "metadata": {
    "id": "ojsr6_ISgFl7"
   },
   "source": [
    "- Select K best\n",
    "    - chi sqaure\n",
    "    - Fisher’s Score\n",
    "    - Correlation Coefficient\n",
    "    \n",
    "This is then implemented in the pipeline below"
   ]
  },
  {
   "cell_type": "code",
   "execution_count": null,
   "metadata": {
    "id": "e12RGnnygFl7"
   },
   "outputs": [],
   "source": [
    "best_features = Pipeline([('skb', SelectKBest(f_classif, k=25))])\n",
    "best_features"
   ]
  },
  {
   "cell_type": "markdown",
   "metadata": {
    "id": "BHOPWx1igFl7"
   },
   "source": [
    "#### Discretization"
   ]
  },
  {
   "cell_type": "code",
   "execution_count": null,
   "metadata": {
    "id": "LaPu19iDgFl8"
   },
   "outputs": [],
   "source": [
    "def kbins(col,n_bins,strategy):\n",
    "    kbins = KBinsDiscretizer(n_bins=n_bins, strategy=strategy, encode='ordinal')\n",
    "    df_encode[col] = kbins.fit_transform(np.array(df_encode[col]).reshape(-1,1))\n",
    "    df_encode[col] = df_encode[col].astype(int)\n",
    "    return df_encode"
   ]
  },
  {
   "cell_type": "markdown",
   "metadata": {
    "id": "hbzyfBaCgFl8"
   },
   "source": [
    "Binning the age column first so that we are able to have one additional feature engineer"
   ]
  },
  {
   "cell_type": "code",
   "execution_count": null,
   "metadata": {
    "colab": {
     "base_uri": "https://localhost:8080/"
    },
    "id": "SIPK0XK2gFl8",
    "outputId": "9bd0065c-a1d6-4da4-9ab4-102674f9229d"
   },
   "outputs": [],
   "source": [
    "kbins = KBinsDiscretizer(n_bins=6, strategy='quantile', encode='ordinal')\n",
    "df['Age'] = kbins.fit_transform(np.array(df['Age']).reshape(-1, 1))\n",
    "df['Age'] = df['Age'].astype(int)\n",
    "\n",
    "mean = dict(df.groupby(by='Age').mean()['Credit Limit'])\n",
    "mean = dict(sorted(mean.items(), key=lambda x: x[1]))\n",
    "print(mean)\n",
    "df['DifferenceMeanA'] = df['Credit Limit'] -  df[\"Age\"].apply(lambda x: mean.get(x))"
   ]
  },
  {
   "cell_type": "code",
   "execution_count": null,
   "metadata": {
    "id": "IQwo99D5gFl9"
   },
   "outputs": [],
   "source": [
    "class Pipeline2:\n",
    "    def __init__(self):\n",
    "        pass\n",
    "\n",
    "    def pipeline_step(self):\n",
    "        numeric_transformer = Pipeline([(\"imputer\", SimpleImputer(\n",
    "            strategy=\"median\")), ('scaler', Normalizer())])\n",
    "\n",
    "        categorical_transformer = Pipeline([(\"imputer\", SimpleImputer(\n",
    "            strategy='most_frequent')),\n",
    "            ('oe', OrdinalEncoder())])\n",
    "\n",
    "        categorical_transformer2 = Pipeline([(\"imputer\", SimpleImputer(\n",
    "            strategy='most_frequent')),\n",
    "            ('ce', CustomEncoder())])\n",
    "\n",
    "        categorical_transformer3 = Pipeline([(\"imputer\", SimpleImputer(\n",
    "            strategy='most_frequent')),\n",
    "            ('ohe', OneHotEncoder())])\n",
    "\n",
    "        preprocessing_step = ColumnTransformer(\n",
    "            [\n",
    "                (\"numeric\", numeric_transformer, ['Bill_Amount1', 'Bill_Amount2', 'Bill_Amount3', 'Pay_Amount1',\n",
    "                                                  'Pay_Amount2', 'Pay_Amount3']),\n",
    "                ('oe', categorical_transformer,\n",
    "                 ['Marriage Status', 'Gender']),\n",
    "                ('custom_e', categorical_transformer2, ['Education']),\n",
    "                ('ohe', categorical_transformer3, ['MarriageGender']),\n",
    "                ('Kbins', self.bins_transformer(10), [\n",
    "                    'Credit Limit', 'DifferenceMeanMG', 'DifferenceMeanG', 'DifferenceMeanE','DifferenceMeanA']),\n",
    "                ('KBins2', self.bins_transformer(8), ['per_of_pay_df_limit1', 'per_of_pay_df_limit2', 'per_of_pay_df_limit3',\n",
    "                                                      'per_of_bill_df_limit1', 'per_of_bill_df_limit2', 'per_of_bill_df_limit3'])\n",
    "            ],\n",
    "            remainder=\"passthrough\",\n",
    "        )\n",
    "        process = [('preprocessing', preprocessing_step),('select',best_features)]\n",
    "        return process\n",
    "\n",
    "\n",
    "    def bins_transformer(self, n):\n",
    "        bins_transformer = Pipeline([('KBinsDiscretizer', KBinsDiscretizer(\n",
    "            n_bins=n, strategy='quantile', encode='ordinal'))])\n",
    "        return bins_transformer\n",
    "\n",
    "\n",
    "p2 = Pipeline2()\n"
   ]
  },
  {
   "cell_type": "markdown",
   "metadata": {
    "id": "PfdxPJXngFl9"
   },
   "source": [
    "Initiliase pipeline 2 with additional feature engineering"
   ]
  },
  {
   "cell_type": "code",
   "execution_count": null,
   "metadata": {
    "colab": {
     "base_uri": "https://localhost:8080/"
    },
    "id": "yMTC3MrAgFl9",
    "outputId": "5333dc2d-4660-4523-9e05-ea249768e305"
   },
   "outputs": [],
   "source": [
    "pipeline2_step = p2.pipeline_step()\n",
    "pipeline2_step"
   ]
  },
  {
   "cell_type": "markdown",
   "metadata": {
    "id": "BnOqOMPSgFl-"
   },
   "source": [
    "#### Oversmapling imbalance target variable"
   ]
  },
  {
   "cell_type": "markdown",
   "metadata": {
    "id": "QL3V1QwpgFl-"
   },
   "source": [
    "- From the dataset, we observed that there is an imblanace of class, hence we need to resample the data in order to have a balance dataset\n",
    "- Types of oversampling method\n",
    "    - SMOTE\n",
    "        - SMOTE stands for Synthetic Minority Oversampling Technique. It works by utilizing a k-nearest neighbor algorithm to create synthetic data.\n",
    "    - ADASYN \n",
    "        - The synthetic data generation is inversely proportional to the density of the minority class. A comparatively larger number of synthetic data is created in regions of a low density of minority class than higher density regions.\n",
    "    - KmeansSMOTE\n",
    "        - K-Means SMOTE aids classification by generating minority class samples in safe and crucial areas of the input space. The method avoids the generation of noise and effectively overcomes imbalances between and within classes.\n",
    "    - SMOTEN\n",
    "        - Synthetic Minority Over-sampling Technique for Nominal (Selected)\n",
    "    - Oversampler\n",
    "        - Random Over Sampling balances the data by replicating the minority class samples. This does not cause any loss of information, but the dataset is prone to overfitting as the same information is copied."
   ]
  },
  {
   "cell_type": "markdown",
   "metadata": {
    "id": "0zV68w1ygFl-"
   },
   "source": [
    "- Make a second train test split"
   ]
  },
  {
   "cell_type": "code",
   "execution_count": null,
   "metadata": {
    "id": "nIiQPLGogFl-"
   },
   "outputs": [],
   "source": [
    "X = df.drop('Default payment next month',axis=1)\n",
    "y = df['Default payment next month']"
   ]
  },
  {
   "cell_type": "code",
   "execution_count": null,
   "metadata": {
    "id": "2XG0M6-dgFl_"
   },
   "outputs": [],
   "source": [
    "X_train, X_test, y_train, y_test = train_test_split(X, y, test_size=.15, stratify=y, shuffle=True,random_state = 32)"
   ]
  },
  {
   "cell_type": "code",
   "execution_count": null,
   "metadata": {
    "colab": {
     "base_uri": "https://localhost:8080/"
    },
    "id": "jw2tYSOMgFl_",
    "outputId": "31c4a837-bbe9-42d7-b2ac-5b51b4dad4db"
   },
   "outputs": [],
   "source": [
    "a = SMOTEN(random_state=32)\n",
    "\n",
    "X_train, y_train = a.fit_resample(X_train,y_train)\n",
    "print(f'Original dataset have shape of {len(X_train),len(y_train)}')\n",
    "print(f'Resampled dataset have shape of {len(X_train),len(y_train)}')"
   ]
  },
  {
   "cell_type": "markdown",
   "metadata": {
    "id": "6odnvi3kgFl_"
   },
   "source": [
    "Analysis on resampled data"
   ]
  },
  {
   "cell_type": "code",
   "execution_count": null,
   "metadata": {
    "colab": {
     "base_uri": "https://localhost:8080/",
     "height": 727
    },
    "id": "zDFbWRdmgFl_",
    "outputId": "e46c1e6c-81c6-4f64-8d4a-92a7e6a51a3d"
   },
   "outputs": [],
   "source": [
    "fig,ax = plt.subplots(2,1,figsize=(10,10))\n",
    "fig.suptitle(\"Analysis on Target Variable (Before vs After)\",size=20,color='darkblue')\n",
    "y_train_original.value_counts().plot(kind=\"barh\",\n",
    "                             title=\"Target Variable Distribution (Before)\",\n",
    "                             ylabel=\"Default payment next month\",\n",
    "                             xlabel=\"Count\",\n",
    "                             ax=ax[0])\n",
    "y_train.value_counts().plot(kind=\"barh\",\n",
    "                             title=\"Target Variable Distribution (After)\",\n",
    "                             ylabel=\"Default payment next month\",\n",
    "                             xlabel=\"Count\",\n",
    "                             ax=ax[1])\n",
    "plt.show()"
   ]
  },
  {
   "cell_type": "markdown",
   "metadata": {
    "id": "wHvCUkX5gFmA"
   },
   "source": [
    "#### Preparing the pipeline"
   ]
  },
  {
   "cell_type": "code",
   "execution_count": null,
   "metadata": {
    "id": "UkFxK5tNgFmA"
   },
   "outputs": [],
   "source": [
    "pipeline2_step.append(0)"
   ]
  },
  {
   "cell_type": "code",
   "execution_count": null,
   "metadata": {
    "colab": {
     "base_uri": "https://localhost:8080/",
     "height": 1000
    },
    "id": "WKr86N0RgFmA",
    "outputId": "2002df03-c451-42ee-ad97-31d84fb8280c"
   },
   "outputs": [],
   "source": [
    "additional_df= run_models(classification_models,pipeline2_step,X_train,y_train,X_test,y_test)"
   ]
  },
  {
   "cell_type": "markdown",
   "metadata": {
    "id": "dwxhV5aagFmB"
   },
   "source": [
    "Checking the average score of the different model"
   ]
  },
  {
   "cell_type": "code",
   "execution_count": null,
   "metadata": {
    "id": "nnMXNTKjgFmB"
   },
   "outputs": [],
   "source": [
    "additional_df.sort_values(by='test_accuracy',ascending=False).style.bar(subset =['test_accuracy','test_f1_weighted','test_recall','test_precision','test_roc_auc'],color='green')"
   ]
  },
  {
   "cell_type": "markdown",
   "metadata": {
    "id": "pBrZ3dzEgFmB"
   },
   "source": [
    "<u><b> Things Observed </b></u>\n",
    "- From the result above, we see that almost all model cross the 80% test accuracy showing that the advanced model is a success comapred to baseline model\n",
    "with the highest being extra tree classifier\n",
    "\n",
    "Top 3\n",
    "- Extra Tree\n",
    "- Random Forest Classifier\n",
    "- Gradient Boosting Classifier"
   ]
  },
  {
   "cell_type": "markdown",
   "metadata": {},
   "source": [
    "Compare the difference with baseline 2"
   ]
  },
  {
   "cell_type": "code",
   "execution_count": null,
   "metadata": {},
   "outputs": [],
   "source": [
    "# Setting the difference \n",
    "difference2 = pd.DataFrame(columns = [evaluation_col[0]]+evaluation_col[3:])\n",
    "for i in evaluation_col[3:]:\n",
    "  dif = additional_df[i] - baselin2_df[i]\n",
    "  difference2[i] = dif\n",
    "difference2['model'] = baselin2_df['model']\n",
    "difference2"
   ]
  },
  {
   "cell_type": "markdown",
   "metadata": {
    "id": "igQPesY6gFmB"
   },
   "source": [
    "#### Run the graph for comparison between before advanced method and after"
   ]
  },
  {
   "cell_type": "code",
   "execution_count": null,
   "metadata": {
    "id": "Zoh_2BIvgFmC"
   },
   "outputs": [],
   "source": [
    "def model_graph(models):\n",
    "    for model_name,model in models.items():\n",
    "        fig, ax = plt.subplots(2, 1, figsize=(8, 9))\n",
    "        pipeline_step_original[-1] = (model_name,model)\n",
    "\n",
    "        clf = Pipeline(steps=pipeline_step_original)\n",
    "        \n",
    "        pipeline2_step[-1] = (model_name,model)\n",
    "        clf2 = Pipeline(steps=pipeline2_step)\n",
    "        modelFunc.plot_learning_curve(model_name,clf,X_train_original,y_train_original,ax[0])\n",
    "        modelFunc.plot_learning_curve(model_name,clf2,X_train,y_train,ax[1])\n",
    "        plt.show()\n",
    "# model_graph(classification_models)\n",
    "\n",
    "def compare(models,pipelines,model_name):\n",
    "    # Plot comparison model\n",
    "    fig, ax = plt.subplots(1, 2, figsize=(12, 5))\n",
    "    index = 0\n",
    "    for model,pipe in zip(models,pipelines):\n",
    "        roc_display1 = RocCurveDisplay.from_estimator(pipe, X_test, y_test, ax=ax[0], name=f\"{model_name[0]} (Additional)\")\n",
    "        x = np.linspace(0, 1, 2)\n",
    "        ax[index].plot(x, x, \":\", color=\"red\")\n",
    "        ax[index].set_title(f\"ROC Curve {model_name[i]}\")\n",
    "\n",
    "    plt.show()\n",
    "def confusion(y_pred,y_test,name,word):\n",
    "    # Plot confusion matrix\n",
    "    fig, ax = plt.subplots(figsize=(7, 7))\n",
    "    sns.heatmap(confusion_matrix(y_test, y_pred), annot=True, fmt=\"d\",cmap=\"YlGnBu\", ax=ax)\n",
    "    fig.suptitle(f'{name} Clasifier {word}',size=20)\n",
    "    fig.set_facecolor('lightgray')\n",
    "    ax.set_ylabel(\"Actual Valuse\")\n",
    "    ax.set_xlabel(\"Predicted Values\")\n",
    "    ax.set_xticklabels([\"0\", \"1\"])\n",
    "    ax.set_yticklabels([\"0\", \"1\"])\n",
    "    plt.show()"
   ]
  },
  {
   "cell_type": "markdown",
   "metadata": {
    "id": "1kEiM6Y7gFmC"
   },
   "source": [
    "#### Classification report of the top 3 models"
   ]
  },
  {
   "cell_type": "markdown",
   "metadata": {},
   "source": [
    "Random Forest Classifier"
   ]
  },
  {
   "cell_type": "code",
   "execution_count": null,
   "metadata": {
    "id": "treQoCMYgFmD"
   },
   "outputs": [],
   "source": [
    "pipeline2_step[-1] = ('clf',RandomForestClassifier())\n",
    "pipeline1 = Pipeline(steps=pipeline2_step)\n",
    "pipeline1.fit(X_train, y_train)\n",
    "y_pred = pipeline1.predict(X_test)\n",
    "print(classification_report(y_test, pipeline1.predict(X_test)))"
   ]
  },
  {
   "cell_type": "markdown",
   "metadata": {},
   "source": [
    "- confusion matrix"
   ]
  },
  {
   "cell_type": "code",
   "execution_count": null,
   "metadata": {},
   "outputs": [],
   "source": [
    "confusion(y_pred,y_test,'Random Forest Classifier','Additional')"
   ]
  },
  {
   "cell_type": "markdown",
   "metadata": {},
   "source": [
    "Extra Tree classifier"
   ]
  },
  {
   "cell_type": "markdown",
   "metadata": {},
   "source": [
    "<u><b> Things Observed </b></u>\n",
    "- For Gradient Boosting Classifier, we can see that the test accuracy increase compared to before tuning from `85.4` to `86.0`\n",
    "- The classification report did for precision decrease to 0.71"
   ]
  },
  {
   "cell_type": "code",
   "execution_count": null,
   "metadata": {
    "id": "3ndnXCiZgFmD"
   },
   "outputs": [],
   "source": [
    "pipeline2_step[-1] = ('clf',ExtraTreesClassifier())\n",
    "pipeline2 = Pipeline(steps=pipeline2_step)\n",
    "pipeline2.fit(X_train, y_train)\n",
    "y_pred = pipeline2.predict(X_test)\n",
    "print(classification_report(y_test, pipeline2.predict(X_test)))"
   ]
  },
  {
   "cell_type": "markdown",
   "metadata": {},
   "source": [
    "- confusion matrix"
   ]
  },
  {
   "cell_type": "code",
   "execution_count": null,
   "metadata": {},
   "outputs": [],
   "source": [
    "confusion(y_pred,y_test,'Extra Tree classifier','Additional')"
   ]
  },
  {
   "cell_type": "markdown",
   "metadata": {},
   "source": [
    "Gradient Boosting Classifier"
   ]
  },
  {
   "cell_type": "code",
   "execution_count": null,
   "metadata": {
    "id": "J8n5EAI6gFmD"
   },
   "outputs": [],
   "source": [
    "pipeline2_step[-1] = ('clf',GradientBoostingClassifier())\n",
    "pipeline3 = Pipeline(steps=pipeline2_step)\n",
    "pipeline3.fit(X_train, y_train)\n",
    "y_pred = pipeline3.predict(X_test)\n",
    "print(classification_report(y_test, pipeline3.predict(X_test)))"
   ]
  },
  {
   "cell_type": "markdown",
   "metadata": {},
   "source": [
    "- confusion matrix"
   ]
  },
  {
   "cell_type": "code",
   "execution_count": null,
   "metadata": {},
   "outputs": [],
   "source": [
    "confusion(y_pred,y_test,'Gradient Boosting Classifier','Additional')"
   ]
  },
  {
   "cell_type": "markdown",
   "metadata": {
    "id": "EDraMel0gFmE"
   },
   "source": [
    "<u><b>Things Observed</b></u>\n",
    "- The top 3 scores in terms of test acucracy was choosen after accessing the dataframe\n",
    "- Then, from the top 3 model, we can see that in classification model, Gradient Boosting performed the best at 0.8 for recall\n",
    "- Models improved slightly after resampling\n"
   ]
  },
  {
   "cell_type": "markdown",
   "metadata": {
    "id": "qjEEezRQgFmE"
   },
   "source": [
    "<a class=\"anchor\" id=\"11\"></a>\n",
    "## <font color='#63B2CB'>__Hyperparameter Tuning__"
   ]
  },
  {
   "cell_type": "markdown",
   "metadata": {},
   "source": [
    "Randomised cv was used over grid search due to the faster time and ability to run more folds in a shorter period of time"
   ]
  },
  {
   "cell_type": "markdown",
   "metadata": {},
   "source": [
    "Answeing to ` Did you try to tune the hyperparameters of the learning algorithm, and in \n",
    "that case how?`"
   ]
  },
  {
   "cell_type": "markdown",
   "metadata": {
    "id": "4uMY8P4sgFmE"
   },
   "source": [
    "From the above model, logisitc regression, gradient boosting classier and random forest classifer was choosen to further tune"
   ]
  },
  {
   "cell_type": "markdown",
   "metadata": {
    "id": "y3wiaZJ2gFmE"
   },
   "source": [
    "#### Tuning"
   ]
  },
  {
   "cell_type": "markdown",
   "metadata": {
    "id": "oZ8pW3oRgFmF"
   },
   "source": [
    "Setting up the class for tuning"
   ]
  },
  {
   "cell_type": "code",
   "execution_count": null,
   "metadata": {
    "id": "fac3vfR8gFmF"
   },
   "outputs": [],
   "source": [
    "class Tuning:\n",
    "    def __init__(self):\n",
    "        pass\n",
    "\n",
    "    def tune(self, param, model):\n",
    "        # Tune the model here with added step\n",
    "        pipeline2_step[-1] = (\"tuning\", RandomizedSearchCV(model, param, cv=StratifiedKFold(n_splits=10), n_jobs=-1, scoring=\"recall_weighted\", n_iter=15\n",
    "                                                           ),\n",
    "                              )\n",
    "\n",
    "        tuned = Pipeline(steps=pipeline2_step)\n",
    "        tuned.fit(X_train, y_train)\n",
    "        print(tuned.named_steps[\"tuning\"].best_params_)\n",
    "        return tuned\n",
    "\n",
    "\n",
    "tune = Tuning()\n"
   ]
  },
  {
   "cell_type": "markdown",
   "metadata": {
    "id": "SvkE56EwgFmF"
   },
   "source": [
    "#### Setting up the param grid for the three models"
   ]
  },
  {
   "cell_type": "markdown",
   "metadata": {
    "id": "_X1HI1zMgFmG"
   },
   "source": [
    "##### Extra Tree Classifier"
   ]
  },
  {
   "cell_type": "code",
   "execution_count": null,
   "metadata": {
    "id": "-qNPa08kgFmG"
   },
   "outputs": [],
   "source": [
    "param_grid_etc = {\n",
    "    'n_estimators': [100, 200, 300],\n",
    "    'max_depth': [None, 5, 10],\n",
    "    'min_samples_split': [2, 5, 10],\n",
    "    'min_samples_leaf': [1, 2, 4],\n",
    "    'max_features': ['auto', 'sqrt', 'log2'],\n",
    "        'bootstrap': [True, False],                   \n",
    "    'criterion': ['gini', 'entropy'],              \n",
    "}\n",
    "etc_tuned_result = tune.tune(param_grid_etc,ExtraTreesClassifier())\n",
    "(pd.DataFrame(etc_tuned_result['tuning'].cv_results_))"
   ]
  },
  {
   "cell_type": "markdown",
   "metadata": {},
   "source": [
    "Run the test result here"
   ]
  },
  {
   "cell_type": "code",
   "execution_count": null,
   "metadata": {
    "id": "A6U8kmMugFmG"
   },
   "outputs": [],
   "source": [
    "pipeline2_step[-1] = (\"clf\", etc_tuned_result.named_steps[\"tuning\"].best_estimator_)\n",
    "etc_tuned = Pipeline(steps=pipeline2_step)\n",
    "etc_tuned.fit(X_train, y_train)\n",
    "etc_tuned_y_pred = etc_tuned.predict(X_test)\n",
    "scores = pd.DataFrame(cross_validate(etc_tuned,X_train,y_train,cv=StratifiedKFold(n_splits=10),scoring=evaluation))"
   ]
  },
  {
   "cell_type": "markdown",
   "metadata": {},
   "source": [
    "Results mean"
   ]
  },
  {
   "cell_type": "code",
   "execution_count": null,
   "metadata": {
    "id": "bNefZqDbgFmG"
   },
   "outputs": [],
   "source": [
    "scores.mean()"
   ]
  },
  {
   "cell_type": "markdown",
   "metadata": {},
   "source": [
    "Classsification report"
   ]
  },
  {
   "cell_type": "code",
   "execution_count": null,
   "metadata": {
    "id": "uqRiraXJgFmH"
   },
   "outputs": [],
   "source": [
    "print(classification_report(y_test,etc_tuned_y_pred))"
   ]
  },
  {
   "cell_type": "markdown",
   "metadata": {},
   "source": [
    "Confusion matrix"
   ]
  },
  {
   "cell_type": "code",
   "execution_count": null,
   "metadata": {
    "id": "QJJgToD7gFmH"
   },
   "outputs": [],
   "source": [
    "confusion(etc_tuned_y_pred,y_test,'Extra Tree Classifier','tuned')"
   ]
  },
  {
   "cell_type": "markdown",
   "metadata": {},
   "source": [
    "learning curve"
   ]
  },
  {
   "cell_type": "code",
   "execution_count": null,
   "metadata": {
    "id": "6aIxHfu0gFmH"
   },
   "outputs": [],
   "source": [
    "fig,ax = plt.subplots(1,1,figsize=(7,7))\n",
    "modelFunc.plot_learning_curve('Extra Tree classifier Tuned',etc_tuned,X_train,y_train,ax)"
   ]
  },
  {
   "cell_type": "markdown",
   "metadata": {},
   "source": [
    "Comparing with dummy model"
   ]
  },
  {
   "cell_type": "code",
   "execution_count": null,
   "metadata": {},
   "outputs": [],
   "source": [
    "difference_dummy1 = scores.mean() - dummy_scores.mean() \n",
    "difference_dummy1.dropna()"
   ]
  },
  {
   "cell_type": "markdown",
   "metadata": {
    "id": "p_urAb8cgFmI"
   },
   "source": [
    "<u><b> Things Observed </b></u>\n",
    "- For Gradient Boosting Classifier, we can see that the test accuracy increase compared to before tuning \n",
    "- The classification report did for recall increase from 0.77 to 0.78 and precision increase too"
   ]
  },
  {
   "cell_type": "markdown",
   "metadata": {
    "id": "LWbHn1RcgFmI"
   },
   "source": [
    "##### Gradient Boosting Classifer"
   ]
  },
  {
   "cell_type": "code",
   "execution_count": null,
   "metadata": {
    "id": "suymbRBYgFmI"
   },
   "outputs": [],
   "source": [
    "param_grid_gbc = {\n",
    "    \"max_depth\":[1,3,100,200,300],\n",
    "    \"learning_rate\":[0.01,0.1,0.15,0.18],\n",
    "}\n",
    "gbc_tuned_result = tune.tune(param_grid_gbc,GradientBoostingClassifier())\n",
    "(pd.DataFrame(gbc_tuned_result['tuning'].cv_results_))"
   ]
  },
  {
   "cell_type": "code",
   "execution_count": null,
   "metadata": {
    "id": "uIpddTeIgFmI"
   },
   "outputs": [],
   "source": [
    "pipeline2_step[-1] = (\"clf\", gbc_tuned_result.named_steps[\"tuning\"].best_estimator_)\n",
    "gbc_tuned = Pipeline(steps=pipeline2_step)\n",
    "gbc_tuned.fit(X_train, y_train)\n",
    "gbc_tuned_y_pred = gbc_tuned.predict(X_test)\n",
    "scores = pd.DataFrame(cross_validate(gbc_tuned,X_train,y_train,cv=StratifiedKFold(n_splits=10),scoring=evaluation))"
   ]
  },
  {
   "cell_type": "code",
   "execution_count": null,
   "metadata": {
    "id": "hPLyGSnjgFmJ"
   },
   "outputs": [],
   "source": [
    "scores.mean()"
   ]
  },
  {
   "cell_type": "code",
   "execution_count": null,
   "metadata": {
    "id": "q8AWd6C9gFmJ"
   },
   "outputs": [],
   "source": [
    "print(classification_report(y_test, gbc_tuned_y_pred))"
   ]
  },
  {
   "cell_type": "code",
   "execution_count": null,
   "metadata": {
    "id": "8U5JCuhKgFmJ"
   },
   "outputs": [],
   "source": [
    "confusion(gbc_tuned_y_pred,y_test,'Gradient Boosting Classifier','tuned')"
   ]
  },
  {
   "cell_type": "code",
   "execution_count": null,
   "metadata": {
    "id": "Ax-9WRidgFmK"
   },
   "outputs": [],
   "source": [
    "fig,ax = plt.subplots(1,1,figsize=(7,7))\n",
    "modelFunc.plot_learning_curve('Gradient Boosting Tuned',gbc_tuned,X_train,y_train,ax)"
   ]
  },
  {
   "cell_type": "markdown",
   "metadata": {},
   "source": [
    "Comparing with dummy model"
   ]
  },
  {
   "cell_type": "code",
   "execution_count": null,
   "metadata": {},
   "outputs": [],
   "source": [
    "difference_dummy1 = scores.mean() - dummy_scores.mean() \n",
    "difference_dummy1.dropna()"
   ]
  },
  {
   "cell_type": "markdown",
   "metadata": {
    "id": "-HBpLQscgFmK"
   },
   "source": [
    "<u><b> Things Observed </b></u>\n",
    "- For Gradient Boosting Classifier, we can see that the test accuracy slight decrease compared to before tuning\n",
    "- The classification report did experience a slight decrease"
   ]
  },
  {
   "cell_type": "markdown",
   "metadata": {
    "id": "8GDea25xgFmL"
   },
   "source": [
    "##### Random Forest Classifier"
   ]
  },
  {
   "cell_type": "code",
   "execution_count": null,
   "metadata": {
    "id": "QKZziPaZgFmL"
   },
   "outputs": [],
   "source": [
    "param_grid_rfc = {\n",
    "    'max_depth': [10,20,100, 300,400, 500],             \n",
    "    'max_features': ['sqrt'],                 \n",
    "    'min_samples_leaf': [1, 2],               \n",
    "    'min_samples_split': [1, 3, 5],       \n",
    "    'n_estimators': [25, 50, 100, 300, 500],\n",
    "     'min_weight_fraction_leaf': [0.0, 0.1, 0.2],\n",
    "      'criterion': ['gini', 'entropy']\n",
    "     \n",
    "}\n",
    "rfc_tuned_result = tune.tune(param_grid_rfc,RandomForestClassifier())\n",
    "(pd.DataFrame(rfc_tuned_result['tuning'].cv_results_))"
   ]
  },
  {
   "cell_type": "markdown",
   "metadata": {},
   "source": [
    "Run the tunning here "
   ]
  },
  {
   "cell_type": "code",
   "execution_count": null,
   "metadata": {
    "id": "p0M3jAfhgFmM"
   },
   "outputs": [],
   "source": [
    "pipeline2_step[-1] = (\"clf\", rfc_tuned_result.named_steps[\"tuning\"].best_estimator_)\n",
    "rfc_tuned = Pipeline(steps=pipeline2_step)\n",
    "rfc_tuned.fit(X_train, y_train)\n",
    "rfc_tuned_y_pred = rfc_tuned.predict(X_test)\n",
    "scores = pd.DataFrame(cross_validate(rfc_tuned,X_train,y_train,cv=StratifiedKFold(n_splits=10),scoring=evaluation))"
   ]
  },
  {
   "cell_type": "markdown",
   "metadata": {},
   "source": [
    "Results mean"
   ]
  },
  {
   "cell_type": "code",
   "execution_count": null,
   "metadata": {
    "id": "y1PXconWgFmM"
   },
   "outputs": [],
   "source": [
    "scores.mean()"
   ]
  },
  {
   "cell_type": "markdown",
   "metadata": {},
   "source": [
    "Classification report"
   ]
  },
  {
   "cell_type": "code",
   "execution_count": null,
   "metadata": {
    "id": "lHkXaS3tgFmN"
   },
   "outputs": [],
   "source": [
    "print(classification_report(y_test, rfc_tuned_y_pred))"
   ]
  },
  {
   "cell_type": "markdown",
   "metadata": {},
   "source": [
    "Confusion matrix"
   ]
  },
  {
   "cell_type": "code",
   "execution_count": null,
   "metadata": {
    "id": "1SoZDWFCgFmN"
   },
   "outputs": [],
   "source": [
    "confusion(rfc_tuned_y_pred,y_test,'Random Forest Classifier','tuned')"
   ]
  },
  {
   "cell_type": "markdown",
   "metadata": {},
   "source": [
    "Learning curve"
   ]
  },
  {
   "cell_type": "code",
   "execution_count": null,
   "metadata": {
    "id": "cnypz20RgFmN"
   },
   "outputs": [],
   "source": [
    "fig,ax = plt.subplots(1,1,figsize=(7,7))\n",
    "modelFunc.plot_learning_curve('Random Forest Tuned',rfc_tuned,X_train,y_train,ax)"
   ]
  },
  {
   "cell_type": "markdown",
   "metadata": {},
   "source": [
    "Comparing with dummy model"
   ]
  },
  {
   "cell_type": "code",
   "execution_count": null,
   "metadata": {},
   "outputs": [],
   "source": [
    "difference_dummy1 = scores.mean() - dummy_scores.mean() \n",
    "difference_dummy1.dropna()"
   ]
  },
  {
   "cell_type": "markdown",
   "metadata": {
    "id": "EgCD05fMgFmO"
   },
   "source": [
    "<u><b> Things Observed </b></u>\n",
    "- For Random Forest Classifier, we can see that the test accuracy increase compared to before tuning \n",
    "- The classification report did remain the same however as we look at recall at 0.79 but precision improved"
   ]
  },
  {
   "cell_type": "markdown",
   "metadata": {},
   "source": [
    "#### AUC Curve"
   ]
  },
  {
   "cell_type": "code",
   "execution_count": null,
   "metadata": {},
   "outputs": [],
   "source": [
    "fig, ax = plt.subplots(1, 3, figsize=(12, 5))\n",
    "fig.suptitle('ROC Curve on Tuned Models',size=20,color='darkblue')\n",
    "x = np.linspace(0, 1, 2)\n",
    "fig.set_facecolor('lightgray')\n",
    "ax[0].plot(x, x, \":\", color=\"red\")\n",
    "ax[1].plot(x, x, \":\", color=\"red\")\n",
    "ax[2].plot(x, x, \":\", color=\"red\")\n",
    "ax[0].set_title(\"Extra Tree Classifier\")\n",
    "ax[1].set_title(\"Random Forest Classifier\")\n",
    "ax[2].set_title(\"Gradient Boosting Classifier\")\n",
    "RocCurveDisplay.from_estimator(\n",
    "    etc_tuned, X_test, y_test, ax=ax[0], name=f\"Extra Tree (tuned)\")\n",
    "RocCurveDisplay.from_estimator(\n",
    "    rfc_tuned, X_test, y_test, ax=ax[1], name=f\"Random forest (tuned)\")\n",
    "RocCurveDisplay.from_estimator(\n",
    "    gbc_tuned, X_test, y_test, ax=ax[2], name=f\"Gradient Boosting (tuned)\")\n"
   ]
  },
  {
   "cell_type": "markdown",
   "metadata": {},
   "source": [
    "<u><b> Things Observed </b></u>\n",
    "- Here we can see that Extra tree and random forest has the highest auc of 0.68 while gradient boosting has the lowest"
   ]
  },
  {
   "cell_type": "markdown",
   "metadata": {
    "id": "51HuDwVPgFmO"
   },
   "source": [
    "<a class=\"anchor\" id=\"15\"></a>\n",
    "## <font color='#63B2CB'>__Try Stacking together__</font>\n"
   ]
  },
  {
   "cell_type": "markdown",
   "metadata": {
    "id": "-mo1o_sugFmO"
   },
   "source": [
    "From the above three, here I try to stack the tuned random forest and gradient boosting together"
   ]
  },
  {
   "cell_type": "code",
   "execution_count": null,
   "metadata": {
    "id": "KjutyU-WgFmO"
   },
   "outputs": [],
   "source": [
    "ensemble = StackingClassifier(\n",
    "    estimators=[\n",
    "        (\"modelrfc\", rfc_tuned_result.named_steps[\"tuning\"].best_estimator_)\n",
    "    ],\n",
    "    final_estimator=gbc_tuned_result.named_steps[\"tuning\"].best_estimator_,\n",
    "    \n",
    "    cv=StratifiedKFold(n_splits=10),\n",
    "    passthrough=False,\n",
    "    n_jobs=-1,\n",
    ")\n",
    "pipeline2_step[-1] = ('clf',ensemble)\n",
    "stacking_classifiers = Pipeline(steps = pipeline2_step)\n",
    "stacking_classifiers.fit(X_train, y_train)\n"
   ]
  },
  {
   "cell_type": "code",
   "execution_count": null,
   "metadata": {
    "id": "TQ91yT_dyXc_"
   },
   "outputs": [],
   "source": [
    "fig, ax = plt.subplots(1, 1, figsize=(8, 8))\n",
    "fig.suptitle('AUC curved Stacking Classifier')\n",
    "RocCurveDisplay.from_estimator(stacking_classifiers, X_test, y_test, ax=ax, name=\"Untuned\")\n",
    "plt.show()"
   ]
  },
  {
   "cell_type": "markdown",
   "metadata": {
    "id": "4ET23F3vgFmP"
   },
   "source": [
    "- Check the model with cross validate score"
   ]
  },
  {
   "cell_type": "code",
   "execution_count": null,
   "metadata": {
    "id": "t844gAtbgFmP"
   },
   "outputs": [],
   "source": [
    "scores = pd.DataFrame(cross_validate(stacking_classifiers,X_train,y_train,cv=StratifiedKFold(n_splits=10),scoring=evaluation))"
   ]
  },
  {
   "cell_type": "code",
   "execution_count": null,
   "metadata": {
    "id": "YJIWwzJagFmP"
   },
   "outputs": [],
   "source": [
    "scores.mean()"
   ]
  },
  {
   "cell_type": "code",
   "execution_count": null,
   "metadata": {
    "id": "2fSPa20XgFmQ"
   },
   "outputs": [],
   "source": [
    "print(classification_report(y_test, stacking_classifiers.predict(X_test)))"
   ]
  },
  {
   "cell_type": "code",
   "execution_count": null,
   "metadata": {},
   "outputs": [],
   "source": [
    "stacking_classifiers = rfc_tuned.predict(X_test)\n",
    "confusion(stacking_classifiers,y_test,' Stacking Classifier','tuned')"
   ]
  },
  {
   "cell_type": "markdown",
   "metadata": {
    "id": "3a_R8H6VgFmQ"
   },
   "source": [
    "<u><b> Things Observed </b></u>\n",
    "- From the stacking of two different models, we do see that the f1-score are the same even when it is done run alone and that precision did boost up to `0.84`\n",
    "- Precision also improved in the process\n",
    "- AUC is lower than individual models"
   ]
  },
  {
   "cell_type": "markdown",
   "metadata": {
    "id": "hYN1l1GtgFmQ"
   },
   "source": [
    "<a class=\"anchor\" id=\"12\"></a>\n",
    "## <font color='#63B2CB'>__Final Model__</font>"
   ]
  },
  {
   "cell_type": "markdown",
   "metadata": {
    "id": "x9hHor8ngFmQ"
   },
   "source": [
    "- Fom the above analysis, even though stacking classifier does produced better results for some parts, it is more expensive when implementing hence  ` Random Forest Classifier is my final model`"
   ]
  },
  {
   "cell_type": "markdown",
   "metadata": {},
   "source": [
    "Running the final model again"
   ]
  },
  {
   "cell_type": "code",
   "execution_count": null,
   "metadata": {},
   "outputs": [],
   "source": [
    "pipeline2_step[-1] = (\"clf\", rfc_tuned_result.named_steps[\"tuning\"].best_estimator_)\n",
    "rfc_tuned = Pipeline(steps=pipeline2_step)\n",
    "rfc_tuned.fit(X_train, y_train)\n",
    "rfc_tuned_y_pred = rfc_tuned.predict(X_test)\n",
    "scores = pd.DataFrame(cross_validate(rfc_tuned,X_train,y_train,cv=StratifiedKFold(n_splits=10),scoring=evaluation))"
   ]
  },
  {
   "cell_type": "code",
   "execution_count": null,
   "metadata": {},
   "outputs": [],
   "source": [
    "scores.mean()"
   ]
  },
  {
   "cell_type": "markdown",
   "metadata": {},
   "source": [
    "Classification report"
   ]
  },
  {
   "cell_type": "code",
   "execution_count": null,
   "metadata": {},
   "outputs": [],
   "source": [
    "print(classification_report(y_test, rfc_tuned_y_pred))"
   ]
  },
  {
   "cell_type": "code",
   "execution_count": null,
   "metadata": {},
   "outputs": [],
   "source": [
    "confusion(rfc_tuned_y_pred,y_test,'Random Forest Classifier','tuned')"
   ]
  },
  {
   "cell_type": "code",
   "execution_count": null,
   "metadata": {},
   "outputs": [],
   "source": [
    "dummy_ypred = dummy_model.predict(X_test_original)\n",
    "confusion(dummy_ypred,y_test_original,'Base model','')"
   ]
  },
  {
   "cell_type": "markdown",
   "metadata": {},
   "source": [
    "ROC Curve comparing with base model"
   ]
  },
  {
   "cell_type": "code",
   "execution_count": null,
   "metadata": {},
   "outputs": [],
   "source": [
    "fig,ax = plt.subplots(1,2,figsize=(7,7))\n",
    "fig.suptitle(\"Comparison with dummy model\")\n",
    "modelFunc.plot_learning_curve('Random Forest Tuned',rfc_tuned,X_train,y_train,ax[0])\n",
    "modelFunc.plot_learning_curve('Dummy Model',dummy_model,X_train_original,y_train_original,ax[1])"
   ]
  },
  {
   "cell_type": "markdown",
   "metadata": {},
   "source": [
    "Comparing with base model"
   ]
  },
  {
   "cell_type": "code",
   "execution_count": null,
   "metadata": {},
   "outputs": [],
   "source": [
    "difference_dummy1 = scores.mean() - dummy_scores.mean() \n",
    "difference_dummy1.dropna()"
   ]
  },
  {
   "cell_type": "markdown",
   "metadata": {},
   "source": [
    "Get the feature names for analysis"
   ]
  },
  {
   "cell_type": "code",
   "execution_count": null,
   "metadata": {
    "id": "UZ46izM3gFmT"
   },
   "outputs": [],
   "source": [
    "final_estimator = rfc_tuned.named_steps['clf']\n",
    "feature_names = final_estimator.feature_importances_\n",
    "feature_names"
   ]
  },
  {
   "cell_type": "code",
   "execution_count": null,
   "metadata": {},
   "outputs": [],
   "source": [
    "fig, ax = plt.subplots(figsize=(35, 30))\n",
    "plot_tree(rfc_tuned[-1][42], filled=True, ax=ax, feature_names=X_train.columns, fontsize=12, class_names=['No default','default'], proportion=True, rounded=True)\n",
    "plt.show()\n"
   ]
  },
  {
   "cell_type": "markdown",
   "metadata": {
    "id": "lYjyNP0ygFmS"
   },
   "source": [
    "<u><b>Things Observed</b></u>\n",
    "- From the confusion matrix we can see that the model weakness is in terms of false negative where it has a high number which causes the accuracy\n",
    "- From the above evaulation, it has a precision of `78`, recall score of '0.79' and an accuracy score of `0.86`, which is the best of both world, previous model has a higher accuracy score but this is due to overfitting which makes the model inaccurate\n",
    "- Comparing with the base model, we can see that overall Random Forest Clasifier preformed much better than it\n",
    "\n",
    "Answering to ` Can you say anything about the errors that the system makes?`\n",
    "\n",
    "- This sytem tends to make mistake in predicting positive class but this could be due to the dataset being imbalanace and too small"
   ]
  },
  {
   "cell_type": "markdown",
   "metadata": {
    "id": "Ikach_HqgFmT"
   },
   "source": [
    "<a class=\"anchor\" id=\"13\"></a>\n",
    "## <font color='#63B2CB'>__Feature Importance Analysis__ </font>"
   ]
  },
  {
   "cell_type": "code",
   "execution_count": null,
   "metadata": {
    "id": "7nwDdJZTgFmT"
   },
   "outputs": [],
   "source": [
    "fig,ax = plt.subplots(figsize=(8,8))\n",
    "pd.DataFrame(rfc_tuned[-1].feature_importances_, index = X_train.columns,columns=[\"Feature Importance\"]).sort_values(\"Feature Importance\").plot(kind=\"barh\", figsize=(4, 6),ax=ax)\n",
    "fig.suptitle(\"Feature Importances of Random Forest\")\n",
    "fig.set_facecolor('lightblue')\n",
    "plt.show()"
   ]
  },
  {
   "cell_type": "markdown",
   "metadata": {
    "id": "pJvqetwTgFmT"
   },
   "source": [
    "<u><b>Things Observed</b></u>\n",
    "- From the above feature importance, we can see that the best feautre was actually difference between mean between gender, which could possibly means that if there is a huge difference between the average, then there could be a higher risk of defaulting"
   ]
  },
  {
   "cell_type": "markdown",
   "metadata": {
    "id": "e1mEnPUzgFmU"
   },
   "source": [
    "<a class=\"anchor\" id=\"14\"></a>\n",
    "## <font color='#63B2CB'>__Summary__</font>"
   ]
  },
  {
   "cell_type": "markdown",
   "metadata": {
    "id": "WmvQnlcHgFmU"
   },
   "source": [
    "- Overall the model improved as compared to a baseline model, while stacking classifier was great the score produced for auc is not ideal, hence I reverted to Random Forest for a more balanced score across the board\n",
    "- In addition this model has a 0.99 score of recall when predicitng class 0\n"
   ]
  }
 ],
 "metadata": {
  "colab": {
   "provenance": []
  },
  "kernelspec": {
   "display_name": "Python 3 (ipykernel)",
   "language": "python",
   "name": "python3"
  },
  "language_info": {
   "codemirror_mode": {
    "name": "ipython",
    "version": 3
   },
   "file_extension": ".py",
   "mimetype": "text/x-python",
   "name": "python",
   "nbconvert_exporter": "python",
   "pygments_lexer": "ipython3",
   "version": "3.9.12"
  },
  "widgets": {
   "application/vnd.jupyter.widget-state+json": {
    "0398c31d9ee04277932201505d08b757": {
     "model_module": "@jupyter-widgets/controls",
     "model_module_version": "1.5.0",
     "model_name": "ProgressStyleModel",
     "state": {
      "_model_module": "@jupyter-widgets/controls",
      "_model_module_version": "1.5.0",
      "_model_name": "ProgressStyleModel",
      "_view_count": null,
      "_view_module": "@jupyter-widgets/base",
      "_view_module_version": "1.2.0",
      "_view_name": "StyleView",
      "bar_color": null,
      "description_width": ""
     }
    },
    "0a3761065b9f48c493f73c69705ad2da": {
     "model_module": "@jupyter-widgets/controls",
     "model_module_version": "1.5.0",
     "model_name": "DescriptionStyleModel",
     "state": {
      "_model_module": "@jupyter-widgets/controls",
      "_model_module_version": "1.5.0",
      "_model_name": "DescriptionStyleModel",
      "_view_count": null,
      "_view_module": "@jupyter-widgets/base",
      "_view_module_version": "1.2.0",
      "_view_name": "StyleView",
      "description_width": ""
     }
    },
    "13160f1d00e4449589211454e4adbcdb": {
     "model_module": "@jupyter-widgets/controls",
     "model_module_version": "1.5.0",
     "model_name": "HTMLModel",
     "state": {
      "_dom_classes": [],
      "_model_module": "@jupyter-widgets/controls",
      "_model_module_version": "1.5.0",
      "_model_name": "HTMLModel",
      "_view_count": null,
      "_view_module": "@jupyter-widgets/controls",
      "_view_module_version": "1.5.0",
      "_view_name": "HTMLView",
      "description": "",
      "description_tooltip": null,
      "layout": "IPY_MODEL_4895466bfc17487d862f7170b9a50f16",
      "placeholder": "​",
      "style": "IPY_MODEL_29f21de0ce264cfaaab250379a0a2ea4",
      "value": " 1/1 [00:02&lt;00:00,  2.16s/it]"
     }
    },
    "2180cbf3a8a3483b8192cdc58e36af4c": {
     "model_module": "@jupyter-widgets/controls",
     "model_module_version": "1.5.0",
     "model_name": "HTMLModel",
     "state": {
      "_dom_classes": [],
      "_model_module": "@jupyter-widgets/controls",
      "_model_module_version": "1.5.0",
      "_model_name": "HTMLModel",
      "_view_count": null,
      "_view_module": "@jupyter-widgets/controls",
      "_view_module_version": "1.5.0",
      "_view_name": "HTMLView",
      "description": "",
      "description_tooltip": null,
      "layout": "IPY_MODEL_2fa0ab44c4204d60b31df45f98c7826f",
      "placeholder": "​",
      "style": "IPY_MODEL_64cb08db645e411cb977246463ee8d92",
      "value": "Generate report structure: 100%"
     }
    },
    "26cb5ef7b4cd49e0a5994b32172e3e78": {
     "model_module": "@jupyter-widgets/base",
     "model_module_version": "1.2.0",
     "model_name": "LayoutModel",
     "state": {
      "_model_module": "@jupyter-widgets/base",
      "_model_module_version": "1.2.0",
      "_model_name": "LayoutModel",
      "_view_count": null,
      "_view_module": "@jupyter-widgets/base",
      "_view_module_version": "1.2.0",
      "_view_name": "LayoutView",
      "align_content": null,
      "align_items": null,
      "align_self": null,
      "border": null,
      "bottom": null,
      "display": null,
      "flex": null,
      "flex_flow": null,
      "grid_area": null,
      "grid_auto_columns": null,
      "grid_auto_flow": null,
      "grid_auto_rows": null,
      "grid_column": null,
      "grid_gap": null,
      "grid_row": null,
      "grid_template_areas": null,
      "grid_template_columns": null,
      "grid_template_rows": null,
      "height": null,
      "justify_content": null,
      "justify_items": null,
      "left": null,
      "margin": null,
      "max_height": null,
      "max_width": null,
      "min_height": null,
      "min_width": null,
      "object_fit": null,
      "object_position": null,
      "order": null,
      "overflow": null,
      "overflow_x": null,
      "overflow_y": null,
      "padding": null,
      "right": null,
      "top": null,
      "visibility": null,
      "width": null
     }
    },
    "29f21de0ce264cfaaab250379a0a2ea4": {
     "model_module": "@jupyter-widgets/controls",
     "model_module_version": "1.5.0",
     "model_name": "DescriptionStyleModel",
     "state": {
      "_model_module": "@jupyter-widgets/controls",
      "_model_module_version": "1.5.0",
      "_model_name": "DescriptionStyleModel",
      "_view_count": null,
      "_view_module": "@jupyter-widgets/base",
      "_view_module_version": "1.2.0",
      "_view_name": "StyleView",
      "description_width": ""
     }
    },
    "2cb6b8d6a5da4cba9507cecb468f99bc": {
     "model_module": "@jupyter-widgets/controls",
     "model_module_version": "1.5.0",
     "model_name": "HTMLModel",
     "state": {
      "_dom_classes": [],
      "_model_module": "@jupyter-widgets/controls",
      "_model_module_version": "1.5.0",
      "_model_name": "HTMLModel",
      "_view_count": null,
      "_view_module": "@jupyter-widgets/controls",
      "_view_module_version": "1.5.0",
      "_view_name": "HTMLView",
      "description": "",
      "description_tooltip": null,
      "layout": "IPY_MODEL_a954ce1167bf4859a0b398f09378ab4b",
      "placeholder": "​",
      "style": "IPY_MODEL_d685cbc4c60d47e2907d35535375ddb2",
      "value": "Summarize dataset: 100%"
     }
    },
    "2fa0ab44c4204d60b31df45f98c7826f": {
     "model_module": "@jupyter-widgets/base",
     "model_module_version": "1.2.0",
     "model_name": "LayoutModel",
     "state": {
      "_model_module": "@jupyter-widgets/base",
      "_model_module_version": "1.2.0",
      "_model_name": "LayoutModel",
      "_view_count": null,
      "_view_module": "@jupyter-widgets/base",
      "_view_module_version": "1.2.0",
      "_view_name": "LayoutView",
      "align_content": null,
      "align_items": null,
      "align_self": null,
      "border": null,
      "bottom": null,
      "display": null,
      "flex": null,
      "flex_flow": null,
      "grid_area": null,
      "grid_auto_columns": null,
      "grid_auto_flow": null,
      "grid_auto_rows": null,
      "grid_column": null,
      "grid_gap": null,
      "grid_row": null,
      "grid_template_areas": null,
      "grid_template_columns": null,
      "grid_template_rows": null,
      "height": null,
      "justify_content": null,
      "justify_items": null,
      "left": null,
      "margin": null,
      "max_height": null,
      "max_width": null,
      "min_height": null,
      "min_width": null,
      "object_fit": null,
      "object_position": null,
      "order": null,
      "overflow": null,
      "overflow_x": null,
      "overflow_y": null,
      "padding": null,
      "right": null,
      "top": null,
      "visibility": null,
      "width": null
     }
    },
    "2fee2bd371844faba5c86b4077df92a6": {
     "model_module": "@jupyter-widgets/controls",
     "model_module_version": "1.5.0",
     "model_name": "HTMLModel",
     "state": {
      "_dom_classes": [],
      "_model_module": "@jupyter-widgets/controls",
      "_model_module_version": "1.5.0",
      "_model_name": "HTMLModel",
      "_view_count": null,
      "_view_module": "@jupyter-widgets/controls",
      "_view_module_version": "1.5.0",
      "_view_name": "HTMLView",
      "description": "",
      "description_tooltip": null,
      "layout": "IPY_MODEL_62db255f3a80454fb848a190dee3fe31",
      "placeholder": "​",
      "style": "IPY_MODEL_504a8660c5ac4a51a4ed041e4a42bd80",
      "value": " 1/1 [00:07&lt;00:00,  7.16s/it]"
     }
    },
    "35502121a607471c9da5786ff84049a7": {
     "model_module": "@jupyter-widgets/base",
     "model_module_version": "1.2.0",
     "model_name": "LayoutModel",
     "state": {
      "_model_module": "@jupyter-widgets/base",
      "_model_module_version": "1.2.0",
      "_model_name": "LayoutModel",
      "_view_count": null,
      "_view_module": "@jupyter-widgets/base",
      "_view_module_version": "1.2.0",
      "_view_name": "LayoutView",
      "align_content": null,
      "align_items": null,
      "align_self": null,
      "border": null,
      "bottom": null,
      "display": null,
      "flex": null,
      "flex_flow": null,
      "grid_area": null,
      "grid_auto_columns": null,
      "grid_auto_flow": null,
      "grid_auto_rows": null,
      "grid_column": null,
      "grid_gap": null,
      "grid_row": null,
      "grid_template_areas": null,
      "grid_template_columns": null,
      "grid_template_rows": null,
      "height": null,
      "justify_content": null,
      "justify_items": null,
      "left": null,
      "margin": null,
      "max_height": null,
      "max_width": null,
      "min_height": null,
      "min_width": null,
      "object_fit": null,
      "object_position": null,
      "order": null,
      "overflow": null,
      "overflow_x": null,
      "overflow_y": null,
      "padding": null,
      "right": null,
      "top": null,
      "visibility": null,
      "width": null
     }
    },
    "3c3300c163f44415bc65d8c813adc24c": {
     "model_module": "@jupyter-widgets/base",
     "model_module_version": "1.2.0",
     "model_name": "LayoutModel",
     "state": {
      "_model_module": "@jupyter-widgets/base",
      "_model_module_version": "1.2.0",
      "_model_name": "LayoutModel",
      "_view_count": null,
      "_view_module": "@jupyter-widgets/base",
      "_view_module_version": "1.2.0",
      "_view_name": "LayoutView",
      "align_content": null,
      "align_items": null,
      "align_self": null,
      "border": null,
      "bottom": null,
      "display": null,
      "flex": null,
      "flex_flow": null,
      "grid_area": null,
      "grid_auto_columns": null,
      "grid_auto_flow": null,
      "grid_auto_rows": null,
      "grid_column": null,
      "grid_gap": null,
      "grid_row": null,
      "grid_template_areas": null,
      "grid_template_columns": null,
      "grid_template_rows": null,
      "height": null,
      "justify_content": null,
      "justify_items": null,
      "left": null,
      "margin": null,
      "max_height": null,
      "max_width": null,
      "min_height": null,
      "min_width": null,
      "object_fit": null,
      "object_position": null,
      "order": null,
      "overflow": null,
      "overflow_x": null,
      "overflow_y": null,
      "padding": null,
      "right": null,
      "top": null,
      "visibility": null,
      "width": null
     }
    },
    "47e8e34fa0cd46fa8a621d846123614c": {
     "model_module": "@jupyter-widgets/controls",
     "model_module_version": "1.5.0",
     "model_name": "FloatProgressModel",
     "state": {
      "_dom_classes": [],
      "_model_module": "@jupyter-widgets/controls",
      "_model_module_version": "1.5.0",
      "_model_name": "FloatProgressModel",
      "_view_count": null,
      "_view_module": "@jupyter-widgets/controls",
      "_view_module_version": "1.5.0",
      "_view_name": "ProgressView",
      "bar_style": "success",
      "description": "",
      "description_tooltip": null,
      "layout": "IPY_MODEL_c27ec299e6a44c31b91d17e0a43507de",
      "max": 1,
      "min": 0,
      "orientation": "horizontal",
      "style": "IPY_MODEL_9d1b7738fa944eb082ed222ab0e37f6d",
      "value": 1
     }
    },
    "4895466bfc17487d862f7170b9a50f16": {
     "model_module": "@jupyter-widgets/base",
     "model_module_version": "1.2.0",
     "model_name": "LayoutModel",
     "state": {
      "_model_module": "@jupyter-widgets/base",
      "_model_module_version": "1.2.0",
      "_model_name": "LayoutModel",
      "_view_count": null,
      "_view_module": "@jupyter-widgets/base",
      "_view_module_version": "1.2.0",
      "_view_name": "LayoutView",
      "align_content": null,
      "align_items": null,
      "align_self": null,
      "border": null,
      "bottom": null,
      "display": null,
      "flex": null,
      "flex_flow": null,
      "grid_area": null,
      "grid_auto_columns": null,
      "grid_auto_flow": null,
      "grid_auto_rows": null,
      "grid_column": null,
      "grid_gap": null,
      "grid_row": null,
      "grid_template_areas": null,
      "grid_template_columns": null,
      "grid_template_rows": null,
      "height": null,
      "justify_content": null,
      "justify_items": null,
      "left": null,
      "margin": null,
      "max_height": null,
      "max_width": null,
      "min_height": null,
      "min_width": null,
      "object_fit": null,
      "object_position": null,
      "order": null,
      "overflow": null,
      "overflow_x": null,
      "overflow_y": null,
      "padding": null,
      "right": null,
      "top": null,
      "visibility": null,
      "width": null
     }
    },
    "504a8660c5ac4a51a4ed041e4a42bd80": {
     "model_module": "@jupyter-widgets/controls",
     "model_module_version": "1.5.0",
     "model_name": "DescriptionStyleModel",
     "state": {
      "_model_module": "@jupyter-widgets/controls",
      "_model_module_version": "1.5.0",
      "_model_name": "DescriptionStyleModel",
      "_view_count": null,
      "_view_module": "@jupyter-widgets/base",
      "_view_module_version": "1.2.0",
      "_view_name": "StyleView",
      "description_width": ""
     }
    },
    "61d2561524e44049b12bdf3870a8346b": {
     "model_module": "@jupyter-widgets/controls",
     "model_module_version": "1.5.0",
     "model_name": "FloatProgressModel",
     "state": {
      "_dom_classes": [],
      "_model_module": "@jupyter-widgets/controls",
      "_model_module_version": "1.5.0",
      "_model_name": "FloatProgressModel",
      "_view_count": null,
      "_view_module": "@jupyter-widgets/controls",
      "_view_module_version": "1.5.0",
      "_view_name": "ProgressView",
      "bar_style": "success",
      "description": "",
      "description_tooltip": null,
      "layout": "IPY_MODEL_26cb5ef7b4cd49e0a5994b32172e3e78",
      "max": 5,
      "min": 0,
      "orientation": "horizontal",
      "style": "IPY_MODEL_0398c31d9ee04277932201505d08b757",
      "value": 5
     }
    },
    "62db255f3a80454fb848a190dee3fe31": {
     "model_module": "@jupyter-widgets/base",
     "model_module_version": "1.2.0",
     "model_name": "LayoutModel",
     "state": {
      "_model_module": "@jupyter-widgets/base",
      "_model_module_version": "1.2.0",
      "_model_name": "LayoutModel",
      "_view_count": null,
      "_view_module": "@jupyter-widgets/base",
      "_view_module_version": "1.2.0",
      "_view_name": "LayoutView",
      "align_content": null,
      "align_items": null,
      "align_self": null,
      "border": null,
      "bottom": null,
      "display": null,
      "flex": null,
      "flex_flow": null,
      "grid_area": null,
      "grid_auto_columns": null,
      "grid_auto_flow": null,
      "grid_auto_rows": null,
      "grid_column": null,
      "grid_gap": null,
      "grid_row": null,
      "grid_template_areas": null,
      "grid_template_columns": null,
      "grid_template_rows": null,
      "height": null,
      "justify_content": null,
      "justify_items": null,
      "left": null,
      "margin": null,
      "max_height": null,
      "max_width": null,
      "min_height": null,
      "min_width": null,
      "object_fit": null,
      "object_position": null,
      "order": null,
      "overflow": null,
      "overflow_x": null,
      "overflow_y": null,
      "padding": null,
      "right": null,
      "top": null,
      "visibility": null,
      "width": null
     }
    },
    "64cb08db645e411cb977246463ee8d92": {
     "model_module": "@jupyter-widgets/controls",
     "model_module_version": "1.5.0",
     "model_name": "DescriptionStyleModel",
     "state": {
      "_model_module": "@jupyter-widgets/controls",
      "_model_module_version": "1.5.0",
      "_model_name": "DescriptionStyleModel",
      "_view_count": null,
      "_view_module": "@jupyter-widgets/base",
      "_view_module_version": "1.2.0",
      "_view_name": "StyleView",
      "description_width": ""
     }
    },
    "938f9436a4f14b51ac9b423457d07aec": {
     "model_module": "@jupyter-widgets/controls",
     "model_module_version": "1.5.0",
     "model_name": "HTMLModel",
     "state": {
      "_dom_classes": [],
      "_model_module": "@jupyter-widgets/controls",
      "_model_module_version": "1.5.0",
      "_model_name": "HTMLModel",
      "_view_count": null,
      "_view_module": "@jupyter-widgets/controls",
      "_view_module_version": "1.5.0",
      "_view_name": "HTMLView",
      "description": "",
      "description_tooltip": null,
      "layout": "IPY_MODEL_a7bd139ea1164bc6ac23520deae60d47",
      "placeholder": "​",
      "style": "IPY_MODEL_c6fd90e42034411ea89ad6f6d5d001a4",
      "value": " 85/85 [00:19&lt;00:00,  3.34it/s, Completed]"
     }
    },
    "95df3fd64c164275bfb8a5f8844e8aa8": {
     "model_module": "@jupyter-widgets/base",
     "model_module_version": "1.2.0",
     "model_name": "LayoutModel",
     "state": {
      "_model_module": "@jupyter-widgets/base",
      "_model_module_version": "1.2.0",
      "_model_name": "LayoutModel",
      "_view_count": null,
      "_view_module": "@jupyter-widgets/base",
      "_view_module_version": "1.2.0",
      "_view_name": "LayoutView",
      "align_content": null,
      "align_items": null,
      "align_self": null,
      "border": null,
      "bottom": null,
      "display": null,
      "flex": null,
      "flex_flow": null,
      "grid_area": null,
      "grid_auto_columns": null,
      "grid_auto_flow": null,
      "grid_auto_rows": null,
      "grid_column": null,
      "grid_gap": null,
      "grid_row": null,
      "grid_template_areas": null,
      "grid_template_columns": null,
      "grid_template_rows": null,
      "height": null,
      "justify_content": null,
      "justify_items": null,
      "left": null,
      "margin": null,
      "max_height": null,
      "max_width": null,
      "min_height": null,
      "min_width": null,
      "object_fit": null,
      "object_position": null,
      "order": null,
      "overflow": null,
      "overflow_x": null,
      "overflow_y": null,
      "padding": null,
      "right": null,
      "top": null,
      "visibility": null,
      "width": null
     }
    },
    "9d1b7738fa944eb082ed222ab0e37f6d": {
     "model_module": "@jupyter-widgets/controls",
     "model_module_version": "1.5.0",
     "model_name": "ProgressStyleModel",
     "state": {
      "_model_module": "@jupyter-widgets/controls",
      "_model_module_version": "1.5.0",
      "_model_name": "ProgressStyleModel",
      "_view_count": null,
      "_view_module": "@jupyter-widgets/base",
      "_view_module_version": "1.2.0",
      "_view_name": "StyleView",
      "bar_color": null,
      "description_width": ""
     }
    },
    "a7bd139ea1164bc6ac23520deae60d47": {
     "model_module": "@jupyter-widgets/base",
     "model_module_version": "1.2.0",
     "model_name": "LayoutModel",
     "state": {
      "_model_module": "@jupyter-widgets/base",
      "_model_module_version": "1.2.0",
      "_model_name": "LayoutModel",
      "_view_count": null,
      "_view_module": "@jupyter-widgets/base",
      "_view_module_version": "1.2.0",
      "_view_name": "LayoutView",
      "align_content": null,
      "align_items": null,
      "align_self": null,
      "border": null,
      "bottom": null,
      "display": null,
      "flex": null,
      "flex_flow": null,
      "grid_area": null,
      "grid_auto_columns": null,
      "grid_auto_flow": null,
      "grid_auto_rows": null,
      "grid_column": null,
      "grid_gap": null,
      "grid_row": null,
      "grid_template_areas": null,
      "grid_template_columns": null,
      "grid_template_rows": null,
      "height": null,
      "justify_content": null,
      "justify_items": null,
      "left": null,
      "margin": null,
      "max_height": null,
      "max_width": null,
      "min_height": null,
      "min_width": null,
      "object_fit": null,
      "object_position": null,
      "order": null,
      "overflow": null,
      "overflow_x": null,
      "overflow_y": null,
      "padding": null,
      "right": null,
      "top": null,
      "visibility": null,
      "width": null
     }
    },
    "a7e2cb85fa85494db7c4d21ee4e98c7c": {
     "model_module": "@jupyter-widgets/controls",
     "model_module_version": "1.5.0",
     "model_name": "ProgressStyleModel",
     "state": {
      "_model_module": "@jupyter-widgets/controls",
      "_model_module_version": "1.5.0",
      "_model_name": "ProgressStyleModel",
      "_view_count": null,
      "_view_module": "@jupyter-widgets/base",
      "_view_module_version": "1.2.0",
      "_view_name": "StyleView",
      "bar_color": null,
      "description_width": ""
     }
    },
    "a954ce1167bf4859a0b398f09378ab4b": {
     "model_module": "@jupyter-widgets/base",
     "model_module_version": "1.2.0",
     "model_name": "LayoutModel",
     "state": {
      "_model_module": "@jupyter-widgets/base",
      "_model_module_version": "1.2.0",
      "_model_name": "LayoutModel",
      "_view_count": null,
      "_view_module": "@jupyter-widgets/base",
      "_view_module_version": "1.2.0",
      "_view_name": "LayoutView",
      "align_content": null,
      "align_items": null,
      "align_self": null,
      "border": null,
      "bottom": null,
      "display": null,
      "flex": null,
      "flex_flow": null,
      "grid_area": null,
      "grid_auto_columns": null,
      "grid_auto_flow": null,
      "grid_auto_rows": null,
      "grid_column": null,
      "grid_gap": null,
      "grid_row": null,
      "grid_template_areas": null,
      "grid_template_columns": null,
      "grid_template_rows": null,
      "height": null,
      "justify_content": null,
      "justify_items": null,
      "left": null,
      "margin": null,
      "max_height": null,
      "max_width": null,
      "min_height": null,
      "min_width": null,
      "object_fit": null,
      "object_position": null,
      "order": null,
      "overflow": null,
      "overflow_x": null,
      "overflow_y": null,
      "padding": null,
      "right": null,
      "top": null,
      "visibility": null,
      "width": null
     }
    },
    "bf232c6d9c5346119e40a0207e766a9f": {
     "model_module": "@jupyter-widgets/controls",
     "model_module_version": "1.5.0",
     "model_name": "HBoxModel",
     "state": {
      "_dom_classes": [],
      "_model_module": "@jupyter-widgets/controls",
      "_model_module_version": "1.5.0",
      "_model_name": "HBoxModel",
      "_view_count": null,
      "_view_module": "@jupyter-widgets/controls",
      "_view_module_version": "1.5.0",
      "_view_name": "HBoxView",
      "box_style": "",
      "children": [
       "IPY_MODEL_df113a98f73f49c6adc02ebe89d24410",
       "IPY_MODEL_47e8e34fa0cd46fa8a621d846123614c",
       "IPY_MODEL_13160f1d00e4449589211454e4adbcdb"
      ],
      "layout": "IPY_MODEL_3c3300c163f44415bc65d8c813adc24c"
     }
    },
    "c27ec299e6a44c31b91d17e0a43507de": {
     "model_module": "@jupyter-widgets/base",
     "model_module_version": "1.2.0",
     "model_name": "LayoutModel",
     "state": {
      "_model_module": "@jupyter-widgets/base",
      "_model_module_version": "1.2.0",
      "_model_name": "LayoutModel",
      "_view_count": null,
      "_view_module": "@jupyter-widgets/base",
      "_view_module_version": "1.2.0",
      "_view_name": "LayoutView",
      "align_content": null,
      "align_items": null,
      "align_self": null,
      "border": null,
      "bottom": null,
      "display": null,
      "flex": null,
      "flex_flow": null,
      "grid_area": null,
      "grid_auto_columns": null,
      "grid_auto_flow": null,
      "grid_auto_rows": null,
      "grid_column": null,
      "grid_gap": null,
      "grid_row": null,
      "grid_template_areas": null,
      "grid_template_columns": null,
      "grid_template_rows": null,
      "height": null,
      "justify_content": null,
      "justify_items": null,
      "left": null,
      "margin": null,
      "max_height": null,
      "max_width": null,
      "min_height": null,
      "min_width": null,
      "object_fit": null,
      "object_position": null,
      "order": null,
      "overflow": null,
      "overflow_x": null,
      "overflow_y": null,
      "padding": null,
      "right": null,
      "top": null,
      "visibility": null,
      "width": null
     }
    },
    "c3a0d763da85480cb4a37d241205477a": {
     "model_module": "@jupyter-widgets/controls",
     "model_module_version": "1.5.0",
     "model_name": "HBoxModel",
     "state": {
      "_dom_classes": [],
      "_model_module": "@jupyter-widgets/controls",
      "_model_module_version": "1.5.0",
      "_model_name": "HBoxModel",
      "_view_count": null,
      "_view_module": "@jupyter-widgets/controls",
      "_view_module_version": "1.5.0",
      "_view_name": "HBoxView",
      "box_style": "",
      "children": [
       "IPY_MODEL_2180cbf3a8a3483b8192cdc58e36af4c",
       "IPY_MODEL_f1b0f2a11e544da39f8accee6164cfbe",
       "IPY_MODEL_2fee2bd371844faba5c86b4077df92a6"
      ],
      "layout": "IPY_MODEL_95df3fd64c164275bfb8a5f8844e8aa8"
     }
    },
    "c6fd90e42034411ea89ad6f6d5d001a4": {
     "model_module": "@jupyter-widgets/controls",
     "model_module_version": "1.5.0",
     "model_name": "DescriptionStyleModel",
     "state": {
      "_model_module": "@jupyter-widgets/controls",
      "_model_module_version": "1.5.0",
      "_model_name": "DescriptionStyleModel",
      "_view_count": null,
      "_view_module": "@jupyter-widgets/base",
      "_view_module_version": "1.2.0",
      "_view_name": "StyleView",
      "description_width": ""
     }
    },
    "d685cbc4c60d47e2907d35535375ddb2": {
     "model_module": "@jupyter-widgets/controls",
     "model_module_version": "1.5.0",
     "model_name": "DescriptionStyleModel",
     "state": {
      "_model_module": "@jupyter-widgets/controls",
      "_model_module_version": "1.5.0",
      "_model_name": "DescriptionStyleModel",
      "_view_count": null,
      "_view_module": "@jupyter-widgets/base",
      "_view_module_version": "1.2.0",
      "_view_name": "StyleView",
      "description_width": ""
     }
    },
    "dd4014bc976a43ce92850b2a9560fcdf": {
     "model_module": "@jupyter-widgets/controls",
     "model_module_version": "1.5.0",
     "model_name": "HBoxModel",
     "state": {
      "_dom_classes": [],
      "_model_module": "@jupyter-widgets/controls",
      "_model_module_version": "1.5.0",
      "_model_name": "HBoxModel",
      "_view_count": null,
      "_view_module": "@jupyter-widgets/controls",
      "_view_module_version": "1.5.0",
      "_view_name": "HBoxView",
      "box_style": "",
      "children": [
       "IPY_MODEL_2cb6b8d6a5da4cba9507cecb468f99bc",
       "IPY_MODEL_61d2561524e44049b12bdf3870a8346b",
       "IPY_MODEL_938f9436a4f14b51ac9b423457d07aec"
      ],
      "layout": "IPY_MODEL_35502121a607471c9da5786ff84049a7"
     }
    },
    "df113a98f73f49c6adc02ebe89d24410": {
     "model_module": "@jupyter-widgets/controls",
     "model_module_version": "1.5.0",
     "model_name": "HTMLModel",
     "state": {
      "_dom_classes": [],
      "_model_module": "@jupyter-widgets/controls",
      "_model_module_version": "1.5.0",
      "_model_name": "HTMLModel",
      "_view_count": null,
      "_view_module": "@jupyter-widgets/controls",
      "_view_module_version": "1.5.0",
      "_view_name": "HTMLView",
      "description": "",
      "description_tooltip": null,
      "layout": "IPY_MODEL_f7f248fcad7d418d9e72369ef95de1b3",
      "placeholder": "​",
      "style": "IPY_MODEL_0a3761065b9f48c493f73c69705ad2da",
      "value": "Render HTML: 100%"
     }
    },
    "f1b0f2a11e544da39f8accee6164cfbe": {
     "model_module": "@jupyter-widgets/controls",
     "model_module_version": "1.5.0",
     "model_name": "FloatProgressModel",
     "state": {
      "_dom_classes": [],
      "_model_module": "@jupyter-widgets/controls",
      "_model_module_version": "1.5.0",
      "_model_name": "FloatProgressModel",
      "_view_count": null,
      "_view_module": "@jupyter-widgets/controls",
      "_view_module_version": "1.5.0",
      "_view_name": "ProgressView",
      "bar_style": "success",
      "description": "",
      "description_tooltip": null,
      "layout": "IPY_MODEL_fd9cc221a53e4d39b89ff17256bee30b",
      "max": 1,
      "min": 0,
      "orientation": "horizontal",
      "style": "IPY_MODEL_a7e2cb85fa85494db7c4d21ee4e98c7c",
      "value": 1
     }
    },
    "f7f248fcad7d418d9e72369ef95de1b3": {
     "model_module": "@jupyter-widgets/base",
     "model_module_version": "1.2.0",
     "model_name": "LayoutModel",
     "state": {
      "_model_module": "@jupyter-widgets/base",
      "_model_module_version": "1.2.0",
      "_model_name": "LayoutModel",
      "_view_count": null,
      "_view_module": "@jupyter-widgets/base",
      "_view_module_version": "1.2.0",
      "_view_name": "LayoutView",
      "align_content": null,
      "align_items": null,
      "align_self": null,
      "border": null,
      "bottom": null,
      "display": null,
      "flex": null,
      "flex_flow": null,
      "grid_area": null,
      "grid_auto_columns": null,
      "grid_auto_flow": null,
      "grid_auto_rows": null,
      "grid_column": null,
      "grid_gap": null,
      "grid_row": null,
      "grid_template_areas": null,
      "grid_template_columns": null,
      "grid_template_rows": null,
      "height": null,
      "justify_content": null,
      "justify_items": null,
      "left": null,
      "margin": null,
      "max_height": null,
      "max_width": null,
      "min_height": null,
      "min_width": null,
      "object_fit": null,
      "object_position": null,
      "order": null,
      "overflow": null,
      "overflow_x": null,
      "overflow_y": null,
      "padding": null,
      "right": null,
      "top": null,
      "visibility": null,
      "width": null
     }
    },
    "fd9cc221a53e4d39b89ff17256bee30b": {
     "model_module": "@jupyter-widgets/base",
     "model_module_version": "1.2.0",
     "model_name": "LayoutModel",
     "state": {
      "_model_module": "@jupyter-widgets/base",
      "_model_module_version": "1.2.0",
      "_model_name": "LayoutModel",
      "_view_count": null,
      "_view_module": "@jupyter-widgets/base",
      "_view_module_version": "1.2.0",
      "_view_name": "LayoutView",
      "align_content": null,
      "align_items": null,
      "align_self": null,
      "border": null,
      "bottom": null,
      "display": null,
      "flex": null,
      "flex_flow": null,
      "grid_area": null,
      "grid_auto_columns": null,
      "grid_auto_flow": null,
      "grid_auto_rows": null,
      "grid_column": null,
      "grid_gap": null,
      "grid_row": null,
      "grid_template_areas": null,
      "grid_template_columns": null,
      "grid_template_rows": null,
      "height": null,
      "justify_content": null,
      "justify_items": null,
      "left": null,
      "margin": null,
      "max_height": null,
      "max_width": null,
      "min_height": null,
      "min_width": null,
      "object_fit": null,
      "object_position": null,
      "order": null,
      "overflow": null,
      "overflow_x": null,
      "overflow_y": null,
      "padding": null,
      "right": null,
      "top": null,
      "visibility": null,
      "width": null
     }
    }
   }
  }
 },
 "nbformat": 4,
 "nbformat_minor": 1
}
